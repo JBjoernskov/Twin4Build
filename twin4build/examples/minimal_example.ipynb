{
 "cells": [
  {
   "cell_type": "markdown",
   "metadata": {},
   "source": [
    "# Twin4Build: Basic Usage Example\n",
    "\n",
    "Welcome to this tutorial on using the Twin4Build package! In this notebook, you'll learn how to:\n",
    "1. Create a simple model with a schedule and a damper\n",
    "2. Connect components in the model\n",
    "3. Simulate the model\n",
    "4. Visualize the results\n",
    "\n",
    "This example demonstrates the basic workflow for creating and simulating a building model in Twin4Build. We'll create a simple ventilation system with a damper controlled by a schedule.\n",
    "\n",
    "Let's get started!"
   ]
  },
  {
   "cell_type": "markdown",
   "metadata": {},
   "source": [
    "## 1. Setup\n",
    "First, let's install and import the necessary packages. If you're running this in Google Colab, uncomment the pip install line."
   ]
  },
  {
   "cell_type": "code",
   "execution_count": 1,
   "metadata": {},
   "outputs": [],
   "source": [
    "# %pip install git+https://github.com/JBjoernskov/Twin4Build.git # Uncomment in google colab\n",
    "import sys\n",
    "sys.path.append(r\"C:\\Users\\jabj\\Documents\\python\\Twin4Build\")\n",
    "import twin4build as tb\n",
    "import datetime\n",
    "from dateutil import tz\n",
    "# import twin4build.utils.plot.plot as plot"
   ]
  },
  {
   "cell_type": "markdown",
   "metadata": {},
   "source": [
    "## Creating the Model\n",
    "\n",
    "Now that we have our packages installed and imported, let's create a simple model. The model will represent a basic ventilation system with a damper controlled by a schedule."
   ]
  },
  {
   "cell_type": "code",
   "execution_count": null,
   "metadata": {},
   "outputs": [],
   "source": [
    "# Create a new model\n",
    "model = tb.Model(id=\"minimal_example\")\n",
    "print(model)"
   ]
  },
  {
   "cell_type": "markdown",
   "metadata": {},
   "source": [
    "### Instantiating Components\n",
    "As shown by the printout, the model is currently empty. Let's add two components:\n",
    "1. A schedule that will control the damper position\n",
    "2. A damper that will control the airflow\n",
    "\n",
    "The schedule will output values between 0 and 1, where:\n",
    "- 0 means the damper is fully closed\n",
    "- 1 means the damper is fully open\n",
    "\n",
    "The damper will convert this position into an actual airflow rate based on its characteristics.\n",
    "\n",
    "Note that any class in the Twin4Build package ending with \"System\" can be used as a component. Here are some examples of available components. The full list of available components is available in the [Twin4Build documentation](https://twin4build.readthedocs.io/en/latest/auto/twin4build.systems.html):"
   ]
  },
  {
   "cell_type": "code",
   "execution_count": null,
   "metadata": {},
   "outputs": [],
   "source": [
    "tb.ScheduleSystem\n",
    "tb.AirToAirHeatRecoverySystem\n",
    "tb.FanTorchSystem"
   ]
  },
  {
   "cell_type": "code",
   "execution_count": null,
   "metadata": {},
   "outputs": [],
   "source": [
    "# 1. Create a schedule\n",
    "position_schedule = tb.ScheduleSystem(\n",
    "    weekDayRulesetDict = {\n",
    "        \"ruleset_default_value\": 0,\n",
    "        \"ruleset_start_minute\": [0,0,0,0,0,0,0],\n",
    "        \"ruleset_end_minute\": [0,0,0,0,0,0,0],\n",
    "        \"ruleset_start_hour\": [6,7,8,12,14,16,18],\n",
    "        \"ruleset_end_hour\": [7,8,12,14,16,18,22],\n",
    "        \"ruleset_value\": [0,0.1,1,0,0,0.5,0.7]\n",
    "    },\n",
    "    id=\"Position schedule\"\n",
    ")\n",
    "print(\"Schedule component:\")\n",
    "print(position_schedule)\n",
    "\n",
    "# 2. Create a damper\n",
    "damper = tb.DamperTorchSystem(\n",
    "    nominalAirFlowRate=1.6,\n",
    "    a=5,\n",
    "    id=\"Damper\"\n",
    ")\n",
    "print(\"\\nDamper component:\")\n",
    "print(damper)"
   ]
  },
  {
   "cell_type": "markdown",
   "metadata": {},
   "source": [
    "### Connecting Components\n",
    "\n",
    "Now that we have our components, let's connect them in the model. The connection will:\n",
    "1. Take the output from the schedule (\"scheduleValue\")\n",
    "2. Use it as input to the damper (\"damperPosition\")"
   ]
  },
  {
   "cell_type": "code",
   "execution_count": null,
   "metadata": {},
   "outputs": [],
   "source": [
    "# Connect the schedule's output to the damper's input\n",
    "model.add_connection(position_schedule, damper, \"scheduleValue\", \"damperPosition\")\n",
    "\n",
    "model.add_connection(damper, damper, \"damperPosition\", \"damperPosition\") #Test add connection\n",
    "# model.remove_connection(damper, damper, \"damperPosition\", \"damperPosition\") #Test remove connection\n",
    "\n",
    "print(\"Components connected successfully!\")\n",
    "\n",
    "# Let's see our updated model\n",
    "print(\"\\nUpdated model:\")\n",
    "print(model)"
   ]
  },
  {
   "cell_type": "markdown",
   "metadata": {},
   "source": [
    "### Loading Model\n",
    "Before we can simulate the model, we need to load it. This step:\n",
    "1. Validates the model structure\n",
    "2. Prepares the components for simulation\n",
    "3. Checks for any missing connections or parameters\n",
    "4. Creates the simulation graph"
   ]
  },
  {
   "cell_type": "code",
   "execution_count": null,
   "metadata": {},
   "outputs": [],
   "source": [
    "model.load()"
   ]
  },
  {
   "cell_type": "markdown",
   "metadata": {},
   "source": [
    "### Visualizing the Model (not required)\n",
    "We can visualize the model to see the components and connections.<br>\n",
    "This is not required, but it can be helpful for debugging and for building the model.<br>\n",
    "The nodes in the graph represent components, and the edges represent connections between components as defined earlier."
   ]
  },
  {
   "cell_type": "code",
   "execution_count": null,
   "metadata": {},
   "outputs": [],
   "source": [
    "import matplotlib.pyplot as plt\n",
    "import os\n",
    "sim_graph = model.get_dir(folder_list=[\"simulation_model\", \"semantic_model\", \"graphs\"], filename=\"semantic_model.png\")[0]\n",
    "image = plt.imread(sim_graph)\n",
    "plt.figure(figsize=(12,12))\n",
    "plt.imshow(image)\n",
    "plt.axis('off')\n",
    "plt.show()"
   ]
  },
  {
   "cell_type": "markdown",
   "metadata": {},
   "source": [
    "## 3. Simulating the Model\n",
    "\n",
    "Now that our model is set up, let's simulate it for a 2-day period. The simulation will:\n",
    "1. Step through time in 10-minute intervals (600 seconds)\n",
    "2. Calculate the damper position based on the schedule\n",
    "3. Calculate the resulting airflow rate\n",
    "4. Store the results for visualization"
   ]
  },
  {
   "cell_type": "code",
   "execution_count": null,
   "metadata": {},
   "outputs": [],
   "source": [
    "# Set up the simulator and simulation parameters\n",
    "simulator = tb.Simulator(model)\n",
    "stepSize = 600  # Seconds\n",
    "startTime = datetime.datetime(year=2024, month=1, day=10, hour=0, minute=0, second=0, tzinfo=tz.gettz(\"Europe/Copenhagen\"))\n",
    "endTime = datetime.datetime(year=2024, month=1, day=12, hour=0, minute=0, second=0, tzinfo=tz.gettz(\"Europe/Copenhagen\"))\n",
    "\n",
    "# Simulate the model\n",
    "simulator.simulate(stepSize=stepSize,\n",
    "                    startTime=startTime,\n",
    "                    endTime=endTime)\n",
    "print(\"Simulation completed successfully!\")"
   ]
  },
  {
   "cell_type": "markdown",
   "metadata": {},
   "source": [
    "## 4. Visualizing the Results\n",
    "\n",
    "Finally, let's visualize the results of our simulation. We'll create a plot showing:\n",
    "1. The airflow rate through the damper (primary axis)\n",
    "2. The damper position (secondary axis)\n",
    "\n",
    "This helps us understand how the schedule affects the damper position and resulting airflow."
   ]
  },
  {
   "cell_type": "code",
   "execution_count": null,
   "metadata": {},
   "outputs": [],
   "source": [
    "# Plot the damper results\n",
    "# plot.plot_damper(model, simulator, \"Damper\", show=True)\n",
    "tb.plot.plot_component(simulator,\n",
    "                    components_1axis=[(\"Damper\", \"airFlowRate\", \"output\")], \n",
    "                    components_2axis=[(\"Damper\", \"damperPosition\", \"output\")], \n",
    "                    ylabel_1axis=\"Air flow rate\", #Optional\n",
    "                    ylabel_2axis=\"Damper position\", #Optional\n",
    "                    show=True,\n",
    "                    nticks=11)\n",
    "print(\"Plot generated successfully!\")"
   ]
  },
  {
   "cell_type": "markdown",
   "metadata": {},
   "source": [
    "## Conclusion\n",
    "\n",
    "Congratulations! You've successfully created a simple Twin4Build model, simulated it, and visualized the results. \n",
    "\n",
    "In this tutorial, you learned how to:\n",
    "1. Create a model and add components (schedule and damper)\n",
    "2. Connect components in the model\n",
    "3. Set up and run a simulation\n",
    "4. Visualize the simulation results\n",
    "\n",
    "Next steps:\n",
    "- Try adding more components to create more complex models\n",
    "- Experiment with different schedules and parameter values\n",
    "- Explore other visualization options in the `plot` module\n",
    "- Check out the other example notebooks for more advanced features:\n",
    "  - Parameter estimation: Learn how to calibrate model parameters\n",
    "  - Neural policy control: Implement AI-based control strategies\n",
    "  - CO2 control: Model and control indoor air quality\n",
    "  - Space heating: Create thermal comfort control systems\n",
    "\n",
    "For more advanced usage and detailed documentation, please refer to the Twin4Build documentation.\n",
    "\n",
    "### Troubleshooting Tips\n",
    "- If you get import errors, make sure Twin4Build is properly installed\n",
    "- If components fail to connect, check that the input/output names match exactly\n",
    "- If simulation fails, verify that all required parameters are set\n",
    "- If plotting fails, ensure the component IDs match those in your model\n",
    "\n",
    "### Performance Tips\n",
    "- Use appropriate step sizes for your simulation (smaller steps = more accurate but slower)\n",
    "- Only save simulation results for components you need to analyze\n",
    "- Use the plot_component function for efficient visualization\n",
    "- Consider using semantic models for complex building systems"
   ]
  }
 ],
 "metadata": {
  "kernelspec": {
   "display_name": "t4b",
   "language": "python",
   "name": "python3"
  },
  "language_info": {
   "codemirror_mode": {
    "name": "ipython",
    "version": 3
   },
   "file_extension": ".py",
   "mimetype": "text/x-python",
   "name": "python",
   "nbconvert_exporter": "python",
   "pygments_lexer": "ipython3",
   "version": "3.10.14"
  }
 },
 "nbformat": 4,
 "nbformat_minor": 4
}
