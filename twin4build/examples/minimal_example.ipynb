{
 "cells": [
  {
   "cell_type": "markdown",
   "metadata": {},
   "source": [
    "# Twin4Build: Basic Usage Example\n",
    "\n",
    "Welcome to this tutorial on using the Twin4Build package! In this notebook, you'll learn how to:\n",
    "1. Create a simple model with a schedule and a damper\n",
    "2. Connect components in the model\n",
    "3. Simulate the model\n",
    "4. Visualize the results\n",
    "\n",
    "Let's get started!"
   ]
  },
  {
   "cell_type": "markdown",
   "metadata": {},
   "source": [
    "## 1. Setup\n",
    "First, let's install and import the necessary packages:"
   ]
  },
  {
   "cell_type": "code",
   "execution_count": 10,
   "metadata": {},
   "outputs": [],
   "source": [
    "# %pip install git+https://github.com/JBjoernskov/Twin4Build.git # Uncomment in google colab\n",
    "import sys\n",
    "sys.path.append(r\"C:\\Users\\jabj\\Documents\\python\\Twin4Build\")\n",
    "import twin4build as tb\n",
    "import datetime\n",
    "from dateutil import tz\n",
    "# import twin4build.utils.plot.plot as plot"
   ]
  },
  {
   "cell_type": "markdown",
   "metadata": {},
   "source": [
    "## Creating the Model\n",
    "\n",
    "Now that we have our packages installed and imported, let's create a simple model."
   ]
  },
  {
   "cell_type": "code",
   "execution_count": null,
   "metadata": {},
   "outputs": [],
   "source": [
    "# Create a new model\n",
    "model = tb.Model(id=\"mymodel\")\n",
    "print(model)"
   ]
  },
  {
   "cell_type": "markdown",
   "metadata": {},
   "source": [
    "### Instantiating Components\n",
    "As shown by the printout, the model is currently empty.<br>\n",
    "Let's instantiate two components: a schedule and a damper.<br>\n",
    "The inputs and outputs of the components are shown in the printout.<br>\n",
    "Note that any class in the Twin4Build package ending with \"System\" can be used as a component.<br>\n",
    "E.g.:\n"
   ]
  },
  {
   "cell_type": "code",
   "execution_count": null,
   "metadata": {},
   "outputs": [],
   "source": [
    "tb.ScheduleSystem\n",
    "tb.AirToAirHeatRecoverySystem\n",
    "tb.FanSystem"
   ]
  },
  {
   "cell_type": "code",
   "execution_count": null,
   "metadata": {},
   "outputs": [],
   "source": [
    "# 1. Create a schedule\n",
    "position_schedule = tb.ScheduleSystem(\n",
    "    weekDayRulesetDict = {\n",
    "        \"ruleset_default_value\": 0,\n",
    "        \"ruleset_start_minute\": [0,0,0,0,0,0,0],\n",
    "        \"ruleset_end_minute\": [0,0,0,0,0,0,0],\n",
    "        \"ruleset_start_hour\": [6,7,8,12,14,16,18],\n",
    "        \"ruleset_end_hour\": [7,8,12,14,16,18,22],\n",
    "        \"ruleset_value\": [0,0.1,1,0,0,0.5,0.7]\n",
    "    },\n",
    "    id=\"Position schedule\"\n",
    ")\n",
    "print(\"Schedule component:\")\n",
    "print(position_schedule)\n",
    "\n",
    "# 2. Create a damper\n",
    "damper = tb.DamperSystem(\n",
    "    nominalAirFlowRate=1.6,\n",
    "    a=5,\n",
    "    id=\"Damper\"\n",
    ")\n",
    "print(\"\\nDamper component:\")\n",
    "print(damper)"
   ]
  },
  {
   "cell_type": "markdown",
   "metadata": {},
   "source": [
    "### Connecting Components\n",
    "\n",
    "Now that we have our components, let's connect them in the model."
   ]
  },
  {
   "cell_type": "code",
   "execution_count": null,
   "metadata": {},
   "outputs": [],
   "source": [
    "# Connect the schedule's output to the damper's input\n",
    "model.add_connection(position_schedule, damper, \"scheduleValue\", \"damperPosition\")\n",
    "print(\"Components connected successfully!\")\n",
    "\n",
    "# Let's see our updated model\n",
    "print(\"\\nUpdated model:\")\n",
    "print(model)"
   ]
  },
  {
   "cell_type": "markdown",
   "metadata": {},
   "source": [
    "### Loading Model\n",
    "Before we can simulate the model, we need to load it.<br>\n",
    "This performs some internal operations and checks to prepare the model and ensure that the model is valid."
   ]
  },
  {
   "cell_type": "code",
   "execution_count": null,
   "metadata": {},
   "outputs": [],
   "source": [
    "model.load()"
   ]
  },
  {
   "cell_type": "markdown",
   "metadata": {},
   "source": [
    "### Visualizing the Model (not required)\n",
    "We can visualize the model to see the components and connections.<br>\n",
    "This is not required, but it can be helpful for debugging and for building the model.<br>\n",
    "The nodes in the graph represent components, and the edges represent connections between components as defined earlier."
   ]
  },
  {
   "cell_type": "code",
   "execution_count": 7,
   "metadata": {},
   "outputs": [],
   "source": [
    "# import matplotlib.pyplot as plt\n",
    "# import os\n",
    "# system_graph = os.path.join(model.graph_path, \"system_graph.png\")\n",
    "# image = plt.imread(system_graph)\n",
    "# plt.figure(figsize=(12,12))\n",
    "# plt.imshow(image)\n",
    "# plt.axis('off')\n",
    "# plt.show()"
   ]
  },
  {
   "cell_type": "markdown",
   "metadata": {},
   "source": [
    "## 2. Simulating the Model\n",
    "\n",
    "Now that our model is set up, let's simulate it for a 2-day period."
   ]
  },
  {
   "cell_type": "code",
   "execution_count": null,
   "metadata": {},
   "outputs": [],
   "source": [
    "# Set up the simulator and simulation parameters\n",
    "simulator = tb.Simulator()\n",
    "stepSize = 600  # Seconds\n",
    "startTime = datetime.datetime(year=2024, month=1, day=10, hour=0, minute=0, second=0, tzinfo=tz.gettz(\"Europe/Copenhagen\"))\n",
    "endTime = datetime.datetime(year=2024, month=1, day=12, hour=0, minute=0, second=0, tzinfo=tz.gettz(\"Europe/Copenhagen\"))\n",
    "\n",
    "# Simulate the model\n",
    "simulator.simulate(model,\n",
    "                    stepSize=stepSize,\n",
    "                    startTime=startTime,\n",
    "                    endTime=endTime)\n",
    "print(\"Simulation completed successfully!\")"
   ]
  },
  {
   "cell_type": "markdown",
   "metadata": {},
   "source": [
    "## Visualizing the Results\n",
    "\n",
    "Finally, let's visualize the results of our simulation.\n",
    "We can use the general plot_component function to plot the results of the damper.\n"
   ]
  },
  {
   "cell_type": "code",
   "execution_count": null,
   "metadata": {},
   "outputs": [],
   "source": [
    "# Plot the damper results\n",
    "# plot.plot_damper(model, simulator, \"Damper\", show=True)\n",
    "tb.plot.plot_component(simulator,\n",
    "                    components_1axis=[(\"Damper\", \"airFlowRate\")], \n",
    "                    components_2axis=[(\"Damper\", \"damperPosition\")], \n",
    "                    ylabel_1axis=\"Air flow rate\", #Optional\n",
    "                    ylabel_2axis=\"Damper position\", #Optional\n",
    "                    show=True,\n",
    "                    nticks=11)\n",
    "print(\"Plot generated successfully!\")"
   ]
  },
  {
   "cell_type": "markdown",
   "metadata": {},
   "source": [
    "## Conclusion\n",
    "\n",
    "Congratulations! You've successfully created a simple Twin4Build model, simulated it, and visualized the results. \n",
    "\n",
    "In this tutorial, you learned how to:\n",
    "1. Create a model and add components (schedule and damper)\n",
    "2. Connect components in the model\n",
    "3. Set up and run a simulation\n",
    "4. Visualize the simulation results\n",
    "\n",
    "Next steps:\n",
    "- Try adding more components to create more complex models\n",
    "- Experiment with different schedules and parameter values\n",
    "- Explore other visualization options in the `plot` module\n",
    "\n",
    "For more advanced usage and detailed documentation, please refer to the Twin4Build documentation."
   ]
  }
 ],
 "metadata": {
  "kernelspec": {
   "display_name": "t4b",
   "language": "python",
   "name": "python3"
  },
  "language_info": {
   "codemirror_mode": {
    "name": "ipython",
    "version": 3
   },
   "file_extension": ".py",
   "mimetype": "text/x-python",
   "name": "python",
   "nbconvert_exporter": "python",
   "pygments_lexer": "ipython3",
   "version": "3.10.14"
  }
 },
 "nbformat": 4,
 "nbformat_minor": 4
}
