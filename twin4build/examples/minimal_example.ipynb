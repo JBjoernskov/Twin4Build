{
 "cells": [
  {
   "cell_type": "markdown",
   "metadata": {},
   "source": [
    "# Twin4Build: Basic Usage Example\n",
    "\n",
    "Welcome to this tutorial on using the Twin4Build package! In this notebook, you'll learn how to:\n",
    "1. Create a simple model with a schedule and a damper\n",
    "2. Connect components in the model\n",
    "3. Simulate the model\n",
    "4. Visualize the results\n",
    "\n",
    "This example demonstrates the basic workflow for creating and simulating a building model in Twin4Build. We'll create a simple ventilation system with a damper controlled by a schedule.\n",
    "\n",
    "Let's get started!"
   ]
  },
  {
   "cell_type": "markdown",
   "metadata": {},
   "source": [
    "## 1. Setup\n",
    "First, let's install and import the necessary packages. If you're running this in Google Colab, uncomment the pip install line."
   ]
  },
  {
   "cell_type": "code",
   "execution_count": 1,
   "metadata": {},
   "outputs": [],
   "source": [
    "# %pip install git+https://github.com/JBjoernskov/Twin4Build.git # Uncomment in google colab\n",
    "import sys\n",
    "import twin4build as tb\n",
    "import datetime\n",
    "from dateutil import tz\n",
    "# import twin4build.utils.plot.plot as plot"
   ]
  },
  {
   "cell_type": "markdown",
   "metadata": {},
   "source": [
    "## Creating the Model\n",
    "\n",
    "Now that we have our packages installed and imported, let's create a simple model. The model will represent a basic ventilation system with a damper controlled by a schedule."
   ]
  },
  {
   "cell_type": "code",
   "execution_count": 2,
   "metadata": {},
   "outputs": [
    {
     "name": "stdout",
     "output_type": "stream",
     "text": [
      "+-------------------------------------------------------------------------------------------------------------------------+\n",
      "|                                          Model overview    id: minimal_example                                          |\n",
      "+---------------------------------------------+---------------------------------------------------------------------------+\n",
      "|  Number of components in simulation model:  |                                     0                                     |\n",
      "+---------------------------------------------+---------------------------------------------------------------------------+\n",
      "| Number of connections in simulation model:  |                                     0                                     |\n",
      "+---------------------------------------------+---------------------------------------------------------------------------+\n",
      "|              Model directory:               | C:\\Users\\jabj\\AppData\\Local\\Temp\\1\\generated_files\\models\\minimal_example |\n",
      "+---------------------------------------------+---------------------------------------------------------------------------+\n",
      "|   Number of instances in semantic model:    |                                     0                                     |\n",
      "+---------------------------------------------+---------------------------------------------------------------------------+\n",
      "|    Number of triples in semantic model:     |                                     0                                     |\n",
      "+---------------------------------------------+---------------------------------------------------------------------------+\n",
      "|                                             |                                                                           |\n",
      "|                                             |                                                                           |\n",
      "+---------------------------------------------+---------------------------------------------------------------------------+\n",
      "|                      id                     |                                   Class                                   |\n",
      "+---------------------------------------------+---------------------------------------------------------------------------+\n"
     ]
    },
    {
     "name": "stderr",
     "output_type": "stream",
     "text": [
      "C:\\Users\\jabj\\Documents\\python\\Twin4Build\\twin4build\\utils\\mkdir_in_root.py:5: MainPathNotFound: Could not determine main module path, using temp dir: C:\\Users\\jabj\\AppData\\Local\\Temp\\1\n",
      "  current_dir = get_main_dir()\n"
     ]
    }
   ],
   "source": [
    "# Create a new model\n",
    "model = tb.Model(id=\"minimal_example\")\n",
    "print(model)"
   ]
  },
  {
   "cell_type": "markdown",
   "metadata": {},
   "source": [
    "### Instantiating Components\n",
    "As shown by the printout, the model is currently empty. Let's add two components:\n",
    "1. A schedule that will control the damper position\n",
    "2. A damper that will control the airflow\n",
    "\n",
    "The schedule will output values between 0 and 1, where:\n",
    "- 0 means the damper is fully closed\n",
    "- 1 means the damper is fully open\n",
    "\n",
    "The damper will convert this position into an actual airflow rate based on its characteristics.\n",
    "\n",
    "Note that any class in the Twin4Build package ending with \"System\" can be used as a component. Here are some examples of available components. The full list of available components is available in the [Twin4Build documentation](https://twin4build.readthedocs.io/en/latest/auto/twin4build.systems.html):"
   ]
  },
  {
   "cell_type": "code",
   "execution_count": 3,
   "metadata": {},
   "outputs": [
    {
     "data": {
      "text/plain": [
       "twin4build.systems.fan.fan_torch_system.FanTorchSystem"
      ]
     },
     "execution_count": 3,
     "metadata": {},
     "output_type": "execute_result"
    }
   ],
   "source": [
    "tb.ScheduleSystem\n",
    "tb.AirToAirHeatRecoverySystem\n",
    "tb.FanTorchSystem"
   ]
  },
  {
   "cell_type": "code",
   "execution_count": 4,
   "metadata": {},
   "outputs": [
    {
     "name": "stdout",
     "output_type": "stream",
     "text": [
      "Schedule component:\n",
      "+---------------------------------------------+\n",
      "| Component overview    id: Position schedule |\n",
      "+-------------+-------------------------------+\n",
      "|    input    |             output            |\n",
      "+-------------+-------------------------------+\n",
      "|             |         scheduleValue         |\n",
      "+-------------+-------------------------------+\n",
      "\n",
      "Damper component:\n",
      "+----------------------------------+\n",
      "| Component overview    id: Damper |\n",
      "+----------------+-----------------+\n",
      "|     input      |      output     |\n",
      "+----------------+-----------------+\n",
      "| damperPosition |  damperPosition |\n",
      "+----------------+-----------------+\n",
      "|                |   airFlowRate   |\n",
      "+----------------+-----------------+\n"
     ]
    }
   ],
   "source": [
    "# 1. Create a schedule\n",
    "position_schedule = tb.ScheduleSystem(\n",
    "    weekDayRulesetDict = {\n",
    "        \"ruleset_default_value\": 0,\n",
    "        \"ruleset_start_minute\": [0,0,0,0,0,0,0],\n",
    "        \"ruleset_end_minute\": [0,0,0,0,0,0,0],\n",
    "        \"ruleset_start_hour\": [6,7,8,12,14,16,18],\n",
    "        \"ruleset_end_hour\": [7,8,12,14,16,18,22],\n",
    "        \"ruleset_value\": [0,0.1,1,0,0,0.5,0.7]\n",
    "    },\n",
    "    id=\"Position schedule\"\n",
    ")\n",
    "print(\"Schedule component:\")\n",
    "print(position_schedule)\n",
    "\n",
    "# 2. Create a damper\n",
    "damper = tb.DamperTorchSystem(\n",
    "    nominalAirFlowRate=1.6,\n",
    "    a=5,\n",
    "    id=\"Damper\"\n",
    ")\n",
    "print(\"\\nDamper component:\")\n",
    "print(damper)"
   ]
  },
  {
   "cell_type": "markdown",
   "metadata": {},
   "source": [
    "### Connecting Components\n",
    "\n",
    "Now that we have our components, let's connect them in the model. The connection will:\n",
    "1. Take the output from the schedule (\"scheduleValue\")\n",
    "2. Use it as input to the damper (\"damperPosition\")"
   ]
  },
  {
   "cell_type": "code",
   "execution_count": 5,
   "metadata": {},
   "outputs": [
    {
     "name": "stderr",
     "output_type": "stream",
     "text": [
      "2025-07-24:07:00:10,174 WARNING [term.py:303] http://simulation.org/Position schedule does not look like a valid URI, trying to serialize this will break.\n",
      "2025-07-24:07:00:10,177 WARNING [term.py:303] http://simulation.org/Position schedule does not look like a valid URI, trying to serialize this will break.\n"
     ]
    },
    {
     "name": "stdout",
     "output_type": "stream",
     "text": [
      "Components connected successfully!\n",
      "\n",
      "Updated model:\n",
      "+-------------------------------------------------------------------------------------------------------------------------+\n",
      "|                                          Model overview    id: minimal_example                                          |\n",
      "+---------------------------------------------+---------------------------------------------------------------------------+\n",
      "|  Number of components in simulation model:  |                                     2                                     |\n",
      "+---------------------------------------------+---------------------------------------------------------------------------+\n",
      "| Number of connections in simulation model:  |                                     1                                     |\n",
      "+---------------------------------------------+---------------------------------------------------------------------------+\n",
      "|              Model directory:               | C:\\Users\\jabj\\AppData\\Local\\Temp\\1\\generated_files\\models\\minimal_example |\n",
      "+---------------------------------------------+---------------------------------------------------------------------------+\n",
      "|   Number of instances in semantic model:    |                                     0                                     |\n",
      "+---------------------------------------------+---------------------------------------------------------------------------+\n",
      "|    Number of triples in semantic model:     |                                     0                                     |\n",
      "+---------------------------------------------+---------------------------------------------------------------------------+\n",
      "|                                             |                                                                           |\n",
      "|                                             |                                                                           |\n",
      "+---------------------------------------------+---------------------------------------------------------------------------+\n",
      "|                      id                     |                                   Class                                   |\n",
      "+---------------------------------------------+---------------------------------------------------------------------------+\n",
      "|                    Damper                   |                             DamperTorchSystem                             |\n",
      "+---------------------------------------------+---------------------------------------------------------------------------+\n",
      "|              Position schedule              |                               ScheduleSystem                              |\n",
      "+---------------------------------------------+---------------------------------------------------------------------------+\n"
     ]
    }
   ],
   "source": [
    "# Connect the schedule's output to the damper's input\n",
    "model.add_connection(position_schedule, damper, \"scheduleValue\", \"damperPosition\")\n",
    "\n",
    "# model.add_connection(damper, damper, \"damperPosition\", \"damperPosition\") #Test add connection\n",
    "# model.remove_connection(damper, damper, \"damperPosition\", \"damperPosition\") #Test remove connection\n",
    "\n",
    "print(\"Components connected successfully!\")\n",
    "\n",
    "# Let's see our updated model\n",
    "print(\"\\nUpdated model:\")\n",
    "print(model)"
   ]
  },
  {
   "cell_type": "markdown",
   "metadata": {},
   "source": [
    "### Loading Model\n",
    "Before we can simulate the model, we need to load it. This step:\n",
    "1. Validates the model structure\n",
    "2. Prepares the components for simulation\n",
    "3. Checks for any missing connections or parameters\n",
    "4. Creates the simulation graph"
   ]
  },
  {
   "cell_type": "code",
   "execution_count": 6,
   "metadata": {},
   "outputs": [
    {
     "name": "stderr",
     "output_type": "stream",
     "text": [
      "2025-07-24:07:00:10,191 WARNING [term.py:303] http://simulation.org/Position schedule does not look like a valid URI, trying to serialize this will break.\n"
     ]
    },
    {
     "name": "stdout",
     "output_type": "stream",
     "text": [
      "\n",
      "Loading model...[OK]\n",
      "   |___Loading simulation model...[OK]\n",
      "   |   |\n",
      "   |   |___Removing cycles...[OK]\n",
      "   |   |___Determining execution order...[OK]\n",
      "   |   |___Loading parameters...[OK]\n",
      "   |   |   |\n",
      "   |   |\n",
      "   |   |___Validating model...[OK]\n",
      "   |   |   |\n",
      "   |   |\n",
      "   |   |___Validated for Simulator...OK\n",
      "   |   |___Validated for Estimator...OK\n",
      "   |   |___Validated for Optimizer...OK\n",
      "   |   |___\n",
      "   |\n",
      "   |___Drawing simulation model..."
     ]
    },
    {
     "name": "stderr",
     "output_type": "stream",
     "text": [
      "2025-07-24:07:00:10,630 WARNING [term.py:303] http://simulation.org/Position schedule does not look like a valid URI, trying to serialize this will break.\n",
      "2025-07-24:07:00:10,632 WARNING [term.py:303] http://simulation.org/Position schedule does not look like a valid URI, trying to serialize this will break.\n"
     ]
    },
    {
     "name": "stdout",
     "output_type": "stream",
     "text": [
      "\n",
      "[OK]\n",
      "\n",
      "Model loaded..."
     ]
    }
   ],
   "source": [
    "model.load()"
   ]
  },
  {
   "cell_type": "markdown",
   "metadata": {},
   "source": [
    "### Visualizing the Model (not required)\n",
    "We can visualize the model to see the components and connections.<br>\n",
    "This is not required, but it can be helpful for debugging and for building the model.<br>\n",
    "The nodes in the graph represent components, and the edges represent connections between components as defined earlier."
   ]
  },
  {
   "cell_type": "code",
   "execution_count": 7,
   "metadata": {},
   "outputs": [
    {
     "ename": "MemoryError",
     "evalue": "Unable to allocate 616. MiB for an array with shape (10771, 20000, 3) and data type bool",
     "output_type": "error",
     "traceback": [
      "\u001b[31m---------------------------------------------------------------------------\u001b[39m",
      "\u001b[31mMemoryError\u001b[39m                               Traceback (most recent call last)",
      "\u001b[36mCell\u001b[39m\u001b[36m \u001b[39m\u001b[32mIn[7]\u001b[39m\u001b[32m, line 6\u001b[39m\n\u001b[32m      4\u001b[39m image = plt.imread(sim_graph)\n\u001b[32m      5\u001b[39m plt.figure(figsize=(\u001b[32m12\u001b[39m,\u001b[32m12\u001b[39m))\n\u001b[32m----> \u001b[39m\u001b[32m6\u001b[39m \u001b[43mplt\u001b[49m\u001b[43m.\u001b[49m\u001b[43mimshow\u001b[49m\u001b[43m(\u001b[49m\u001b[43mimage\u001b[49m\u001b[43m)\u001b[49m\n\u001b[32m      7\u001b[39m plt.axis(\u001b[33m'\u001b[39m\u001b[33moff\u001b[39m\u001b[33m'\u001b[39m)\n\u001b[32m      8\u001b[39m plt.show()\n",
      "\u001b[36mFile \u001b[39m\u001b[32mc:\\ProgramData\\anaconda3\\envs\\t4b\\Lib\\site-packages\\matplotlib\\pyplot.py:3601\u001b[39m, in \u001b[36mimshow\u001b[39m\u001b[34m(X, cmap, norm, aspect, interpolation, alpha, vmin, vmax, colorizer, origin, extent, interpolation_stage, filternorm, filterrad, resample, url, data, **kwargs)\u001b[39m\n\u001b[32m   3579\u001b[39m \u001b[38;5;129m@_copy_docstring_and_deprecators\u001b[39m(Axes.imshow)\n\u001b[32m   3580\u001b[39m \u001b[38;5;28;01mdef\u001b[39;00m\u001b[38;5;250m \u001b[39m\u001b[34mimshow\u001b[39m(\n\u001b[32m   3581\u001b[39m     X: ArrayLike | PIL.Image.Image,\n\u001b[32m   (...)\u001b[39m\u001b[32m   3599\u001b[39m     **kwargs,\n\u001b[32m   3600\u001b[39m ) -> AxesImage:\n\u001b[32m-> \u001b[39m\u001b[32m3601\u001b[39m     __ret = \u001b[43mgca\u001b[49m\u001b[43m(\u001b[49m\u001b[43m)\u001b[49m\u001b[43m.\u001b[49m\u001b[43mimshow\u001b[49m\u001b[43m(\u001b[49m\n\u001b[32m   3602\u001b[39m \u001b[43m        \u001b[49m\u001b[43mX\u001b[49m\u001b[43m,\u001b[49m\n\u001b[32m   3603\u001b[39m \u001b[43m        \u001b[49m\u001b[43mcmap\u001b[49m\u001b[43m=\u001b[49m\u001b[43mcmap\u001b[49m\u001b[43m,\u001b[49m\n\u001b[32m   3604\u001b[39m \u001b[43m        \u001b[49m\u001b[43mnorm\u001b[49m\u001b[43m=\u001b[49m\u001b[43mnorm\u001b[49m\u001b[43m,\u001b[49m\n\u001b[32m   3605\u001b[39m \u001b[43m        \u001b[49m\u001b[43maspect\u001b[49m\u001b[43m=\u001b[49m\u001b[43maspect\u001b[49m\u001b[43m,\u001b[49m\n\u001b[32m   3606\u001b[39m \u001b[43m        \u001b[49m\u001b[43minterpolation\u001b[49m\u001b[43m=\u001b[49m\u001b[43minterpolation\u001b[49m\u001b[43m,\u001b[49m\n\u001b[32m   3607\u001b[39m \u001b[43m        \u001b[49m\u001b[43malpha\u001b[49m\u001b[43m=\u001b[49m\u001b[43malpha\u001b[49m\u001b[43m,\u001b[49m\n\u001b[32m   3608\u001b[39m \u001b[43m        \u001b[49m\u001b[43mvmin\u001b[49m\u001b[43m=\u001b[49m\u001b[43mvmin\u001b[49m\u001b[43m,\u001b[49m\n\u001b[32m   3609\u001b[39m \u001b[43m        \u001b[49m\u001b[43mvmax\u001b[49m\u001b[43m=\u001b[49m\u001b[43mvmax\u001b[49m\u001b[43m,\u001b[49m\n\u001b[32m   3610\u001b[39m \u001b[43m        \u001b[49m\u001b[43mcolorizer\u001b[49m\u001b[43m=\u001b[49m\u001b[43mcolorizer\u001b[49m\u001b[43m,\u001b[49m\n\u001b[32m   3611\u001b[39m \u001b[43m        \u001b[49m\u001b[43morigin\u001b[49m\u001b[43m=\u001b[49m\u001b[43morigin\u001b[49m\u001b[43m,\u001b[49m\n\u001b[32m   3612\u001b[39m \u001b[43m        \u001b[49m\u001b[43mextent\u001b[49m\u001b[43m=\u001b[49m\u001b[43mextent\u001b[49m\u001b[43m,\u001b[49m\n\u001b[32m   3613\u001b[39m \u001b[43m        \u001b[49m\u001b[43minterpolation_stage\u001b[49m\u001b[43m=\u001b[49m\u001b[43minterpolation_stage\u001b[49m\u001b[43m,\u001b[49m\n\u001b[32m   3614\u001b[39m \u001b[43m        \u001b[49m\u001b[43mfilternorm\u001b[49m\u001b[43m=\u001b[49m\u001b[43mfilternorm\u001b[49m\u001b[43m,\u001b[49m\n\u001b[32m   3615\u001b[39m \u001b[43m        \u001b[49m\u001b[43mfilterrad\u001b[49m\u001b[43m=\u001b[49m\u001b[43mfilterrad\u001b[49m\u001b[43m,\u001b[49m\n\u001b[32m   3616\u001b[39m \u001b[43m        \u001b[49m\u001b[43mresample\u001b[49m\u001b[43m=\u001b[49m\u001b[43mresample\u001b[49m\u001b[43m,\u001b[49m\n\u001b[32m   3617\u001b[39m \u001b[43m        \u001b[49m\u001b[43murl\u001b[49m\u001b[43m=\u001b[49m\u001b[43murl\u001b[49m\u001b[43m,\u001b[49m\n\u001b[32m   3618\u001b[39m \u001b[43m        \u001b[49m\u001b[43m*\u001b[49m\u001b[43m*\u001b[49m\u001b[43m(\u001b[49m\u001b[43m{\u001b[49m\u001b[33;43m\"\u001b[39;49m\u001b[33;43mdata\u001b[39;49m\u001b[33;43m\"\u001b[39;49m\u001b[43m:\u001b[49m\u001b[43m \u001b[49m\u001b[43mdata\u001b[49m\u001b[43m}\u001b[49m\u001b[43m \u001b[49m\u001b[38;5;28;43;01mif\u001b[39;49;00m\u001b[43m \u001b[49m\u001b[43mdata\u001b[49m\u001b[43m \u001b[49m\u001b[38;5;129;43;01mis\u001b[39;49;00m\u001b[43m \u001b[49m\u001b[38;5;129;43;01mnot\u001b[39;49;00m\u001b[43m \u001b[49m\u001b[38;5;28;43;01mNone\u001b[39;49;00m\u001b[43m \u001b[49m\u001b[38;5;28;43;01melse\u001b[39;49;00m\u001b[43m \u001b[49m\u001b[43m{\u001b[49m\u001b[43m}\u001b[49m\u001b[43m)\u001b[49m\u001b[43m,\u001b[49m\n\u001b[32m   3619\u001b[39m \u001b[43m        \u001b[49m\u001b[43m*\u001b[49m\u001b[43m*\u001b[49m\u001b[43mkwargs\u001b[49m\u001b[43m,\u001b[49m\n\u001b[32m   3620\u001b[39m \u001b[43m    \u001b[49m\u001b[43m)\u001b[49m\n\u001b[32m   3621\u001b[39m     sci(__ret)\n\u001b[32m   3622\u001b[39m     \u001b[38;5;28;01mreturn\u001b[39;00m __ret\n",
      "\u001b[36mFile \u001b[39m\u001b[32mc:\\ProgramData\\anaconda3\\envs\\t4b\\Lib\\site-packages\\matplotlib\\__init__.py:1521\u001b[39m, in \u001b[36m_preprocess_data.<locals>.inner\u001b[39m\u001b[34m(ax, data, *args, **kwargs)\u001b[39m\n\u001b[32m   1518\u001b[39m \u001b[38;5;129m@functools\u001b[39m.wraps(func)\n\u001b[32m   1519\u001b[39m \u001b[38;5;28;01mdef\u001b[39;00m\u001b[38;5;250m \u001b[39m\u001b[34minner\u001b[39m(ax, *args, data=\u001b[38;5;28;01mNone\u001b[39;00m, **kwargs):\n\u001b[32m   1520\u001b[39m     \u001b[38;5;28;01mif\u001b[39;00m data \u001b[38;5;129;01mis\u001b[39;00m \u001b[38;5;28;01mNone\u001b[39;00m:\n\u001b[32m-> \u001b[39m\u001b[32m1521\u001b[39m         \u001b[38;5;28;01mreturn\u001b[39;00m \u001b[43mfunc\u001b[49m\u001b[43m(\u001b[49m\n\u001b[32m   1522\u001b[39m \u001b[43m            \u001b[49m\u001b[43max\u001b[49m\u001b[43m,\u001b[49m\n\u001b[32m   1523\u001b[39m \u001b[43m            \u001b[49m\u001b[43m*\u001b[49m\u001b[38;5;28;43mmap\u001b[39;49m\u001b[43m(\u001b[49m\u001b[43mcbook\u001b[49m\u001b[43m.\u001b[49m\u001b[43msanitize_sequence\u001b[49m\u001b[43m,\u001b[49m\u001b[43m \u001b[49m\u001b[43margs\u001b[49m\u001b[43m)\u001b[49m\u001b[43m,\u001b[49m\n\u001b[32m   1524\u001b[39m \u001b[43m            \u001b[49m\u001b[43m*\u001b[49m\u001b[43m*\u001b[49m\u001b[43m{\u001b[49m\u001b[43mk\u001b[49m\u001b[43m:\u001b[49m\u001b[43m \u001b[49m\u001b[43mcbook\u001b[49m\u001b[43m.\u001b[49m\u001b[43msanitize_sequence\u001b[49m\u001b[43m(\u001b[49m\u001b[43mv\u001b[49m\u001b[43m)\u001b[49m\u001b[43m \u001b[49m\u001b[38;5;28;43;01mfor\u001b[39;49;00m\u001b[43m \u001b[49m\u001b[43mk\u001b[49m\u001b[43m,\u001b[49m\u001b[43m \u001b[49m\u001b[43mv\u001b[49m\u001b[43m \u001b[49m\u001b[38;5;129;43;01min\u001b[39;49;00m\u001b[43m \u001b[49m\u001b[43mkwargs\u001b[49m\u001b[43m.\u001b[49m\u001b[43mitems\u001b[49m\u001b[43m(\u001b[49m\u001b[43m)\u001b[49m\u001b[43m}\u001b[49m\u001b[43m)\u001b[49m\n\u001b[32m   1526\u001b[39m     bound = new_sig.bind(ax, *args, **kwargs)\n\u001b[32m   1527\u001b[39m     auto_label = (bound.arguments.get(label_namer)\n\u001b[32m   1528\u001b[39m                   \u001b[38;5;129;01mor\u001b[39;00m bound.kwargs.get(label_namer))\n",
      "\u001b[36mFile \u001b[39m\u001b[32mc:\\ProgramData\\anaconda3\\envs\\t4b\\Lib\\site-packages\\matplotlib\\axes\\_axes.py:5979\u001b[39m, in \u001b[36mAxes.imshow\u001b[39m\u001b[34m(self, X, cmap, norm, aspect, interpolation, alpha, vmin, vmax, colorizer, origin, extent, interpolation_stage, filternorm, filterrad, resample, url, **kwargs)\u001b[39m\n\u001b[32m   5976\u001b[39m \u001b[38;5;28;01mif\u001b[39;00m aspect \u001b[38;5;129;01mis\u001b[39;00m \u001b[38;5;129;01mnot\u001b[39;00m \u001b[38;5;28;01mNone\u001b[39;00m:\n\u001b[32m   5977\u001b[39m     \u001b[38;5;28mself\u001b[39m.set_aspect(aspect)\n\u001b[32m-> \u001b[39m\u001b[32m5979\u001b[39m \u001b[43mim\u001b[49m\u001b[43m.\u001b[49m\u001b[43mset_data\u001b[49m\u001b[43m(\u001b[49m\u001b[43mX\u001b[49m\u001b[43m)\u001b[49m\n\u001b[32m   5980\u001b[39m im.set_alpha(alpha)\n\u001b[32m   5981\u001b[39m \u001b[38;5;28;01mif\u001b[39;00m im.get_clip_path() \u001b[38;5;129;01mis\u001b[39;00m \u001b[38;5;28;01mNone\u001b[39;00m:\n\u001b[32m   5982\u001b[39m     \u001b[38;5;66;03m# image does not already have clipping set, clip to Axes patch\u001b[39;00m\n",
      "\u001b[36mFile \u001b[39m\u001b[32mc:\\ProgramData\\anaconda3\\envs\\t4b\\Lib\\site-packages\\matplotlib\\image.py:685\u001b[39m, in \u001b[36m_ImageBase.set_data\u001b[39m\u001b[34m(self, A)\u001b[39m\n\u001b[32m    683\u001b[39m \u001b[38;5;28;01mif\u001b[39;00m \u001b[38;5;28misinstance\u001b[39m(A, PIL.Image.Image):\n\u001b[32m    684\u001b[39m     A = pil_to_array(A)  \u001b[38;5;66;03m# Needed e.g. to apply png palette.\u001b[39;00m\n\u001b[32m--> \u001b[39m\u001b[32m685\u001b[39m \u001b[38;5;28mself\u001b[39m._A = \u001b[38;5;28;43mself\u001b[39;49m\u001b[43m.\u001b[49m\u001b[43m_normalize_image_array\u001b[49m\u001b[43m(\u001b[49m\u001b[43mA\u001b[49m\u001b[43m)\u001b[49m\n\u001b[32m    686\u001b[39m \u001b[38;5;28mself\u001b[39m._imcache = \u001b[38;5;28;01mNone\u001b[39;00m\n\u001b[32m    687\u001b[39m \u001b[38;5;28mself\u001b[39m.stale = \u001b[38;5;28;01mTrue\u001b[39;00m\n",
      "\u001b[36mFile \u001b[39m\u001b[32mc:\\ProgramData\\anaconda3\\envs\\t4b\\Lib\\site-packages\\matplotlib\\image.py:646\u001b[39m, in \u001b[36m_ImageBase._normalize_image_array\u001b[39m\u001b[34m(A)\u001b[39m\n\u001b[32m    640\u001b[39m \u001b[38;5;129m@staticmethod\u001b[39m\n\u001b[32m    641\u001b[39m \u001b[38;5;28;01mdef\u001b[39;00m\u001b[38;5;250m \u001b[39m\u001b[34m_normalize_image_array\u001b[39m(A):\n\u001b[32m    642\u001b[39m \u001b[38;5;250m    \u001b[39m\u001b[33;03m\"\"\"\u001b[39;00m\n\u001b[32m    643\u001b[39m \u001b[33;03m    Check validity of image-like input *A* and normalize it to a format suitable for\u001b[39;00m\n\u001b[32m    644\u001b[39m \u001b[33;03m    Image subclasses.\u001b[39;00m\n\u001b[32m    645\u001b[39m \u001b[33;03m    \"\"\"\u001b[39;00m\n\u001b[32m--> \u001b[39m\u001b[32m646\u001b[39m     A = \u001b[43mcbook\u001b[49m\u001b[43m.\u001b[49m\u001b[43msafe_masked_invalid\u001b[49m\u001b[43m(\u001b[49m\u001b[43mA\u001b[49m\u001b[43m,\u001b[49m\u001b[43m \u001b[49m\u001b[43mcopy\u001b[49m\u001b[43m=\u001b[49m\u001b[38;5;28;43;01mTrue\u001b[39;49;00m\u001b[43m)\u001b[49m\n\u001b[32m    647\u001b[39m     \u001b[38;5;28;01mif\u001b[39;00m A.dtype != np.uint8 \u001b[38;5;129;01mand\u001b[39;00m \u001b[38;5;129;01mnot\u001b[39;00m np.can_cast(A.dtype, \u001b[38;5;28mfloat\u001b[39m, \u001b[33m\"\u001b[39m\u001b[33msame_kind\u001b[39m\u001b[33m\"\u001b[39m):\n\u001b[32m    648\u001b[39m         \u001b[38;5;28;01mraise\u001b[39;00m \u001b[38;5;167;01mTypeError\u001b[39;00m(\u001b[33mf\u001b[39m\u001b[33m\"\u001b[39m\u001b[33mImage data of dtype \u001b[39m\u001b[38;5;132;01m{\u001b[39;00mA.dtype\u001b[38;5;132;01m}\u001b[39;00m\u001b[33m cannot be \u001b[39m\u001b[33m\"\u001b[39m\n\u001b[32m    649\u001b[39m                         \u001b[33mf\u001b[39m\u001b[33m\"\u001b[39m\u001b[33mconverted to float\u001b[39m\u001b[33m\"\u001b[39m)\n",
      "\u001b[36mFile \u001b[39m\u001b[32mc:\\ProgramData\\anaconda3\\envs\\t4b\\Lib\\site-packages\\matplotlib\\cbook.py:691\u001b[39m, in \u001b[36msafe_masked_invalid\u001b[39m\u001b[34m(x, copy)\u001b[39m\n\u001b[32m    689\u001b[39m     x = x.byteswap(inplace=copy).view(x.dtype.newbyteorder(\u001b[33m'\u001b[39m\u001b[33mN\u001b[39m\u001b[33m'\u001b[39m))\n\u001b[32m    690\u001b[39m \u001b[38;5;28;01mtry\u001b[39;00m:\n\u001b[32m--> \u001b[39m\u001b[32m691\u001b[39m     xm = np.ma.masked_where(\u001b[43m~\u001b[49m\u001b[43m(\u001b[49m\u001b[43mnp\u001b[49m\u001b[43m.\u001b[49m\u001b[43misfinite\u001b[49m\u001b[43m(\u001b[49m\u001b[43mx\u001b[49m\u001b[43m)\u001b[49m\u001b[43m)\u001b[49m, x, copy=\u001b[38;5;28;01mFalse\u001b[39;00m)\n\u001b[32m    692\u001b[39m \u001b[38;5;28;01mexcept\u001b[39;00m \u001b[38;5;167;01mTypeError\u001b[39;00m:\n\u001b[32m    693\u001b[39m     \u001b[38;5;28;01mreturn\u001b[39;00m x\n",
      "\u001b[31mMemoryError\u001b[39m: Unable to allocate 616. MiB for an array with shape (10771, 20000, 3) and data type bool"
     ]
    },
    {
     "data": {
      "image/png": "[encoded data removed]",
      "text/plain": [
       "<Figure size 1200x1200 with 1 Axes>"
      ]
     },
     "metadata": {},
     "output_type": "display_data"
    }
   ],
   "source": [
    "import matplotlib.pyplot as plt\n",
    "import os\n",
    "sim_graph = model.get_dir(folder_list=[\"simulation_model\", \"semantic_model\", \"graphs\"], filename=\"semantic_model.png\")[0]\n",
    "image = plt.imread(sim_graph)\n",
    "plt.figure(figsize=(12,12))\n",
    "plt.imshow(image)\n",
    "plt.axis('off')\n",
    "plt.show()"
   ]
  },
  {
   "cell_type": "markdown",
   "metadata": {},
   "source": [
    "## 3. Simulating the Model\n",
    "\n",
    "Now that our model is set up, let's simulate it for a 2-day period. The simulation will:\n",
    "1. Step through time in 10-minute intervals (600 seconds)\n",
    "2. Calculate the damper position based on the schedule\n",
    "3. Calculate the resulting airflow rate\n",
    "4. Store the results for visualization"
   ]
  },
  {
   "cell_type": "code",
   "execution_count": null,
   "metadata": {},
   "outputs": [],
   "source": [
    "# Set up the simulator and simulation parameters\n",
    "simulator = tb.Simulator(model)\n",
    "stepSize = 600  # Seconds\n",
    "startTime = datetime.datetime(year=2024, month=1, day=10, hour=0, minute=0, second=0, tzinfo=tz.gettz(\"Europe/Copenhagen\"))\n",
    "endTime = datetime.datetime(year=2024, month=1, day=12, hour=0, minute=0, second=0, tzinfo=tz.gettz(\"Europe/Copenhagen\"))\n",
    "\n",
    "# Simulate the model\n",
    "simulator.simulate(stepSize=stepSize,\n",
    "                    startTime=startTime,\n",
    "                    endTime=endTime)\n",
    "print(\"Simulation completed successfully!\")"
   ]
  },
  {
   "cell_type": "markdown",
   "metadata": {},
   "source": [
    "## 4. Visualizing the Results\n",
    "\n",
    "Finally, let's visualize the results of our simulation. We'll create a plot showing:\n",
    "1. The airflow rate through the damper (primary axis)\n",
    "2. The damper position (secondary axis)\n",
    "\n",
    "This helps us understand how the schedule affects the damper position and resulting airflow."
   ]
  },
  {
   "cell_type": "code",
   "execution_count": null,
   "metadata": {},
   "outputs": [],
   "source": [
    "# Plot the damper results\n",
    "# plot.plot_damper(model, simulator, \"Damper\", show=True)\n",
    "tb.plot.plot_component(simulator,\n",
    "                    components_1axis=[(\"Damper\", \"airFlowRate\", \"output\")], \n",
    "                    components_2axis=[(\"Damper\", \"damperPosition\", \"output\")], \n",
    "                    ylabel_1axis=\"Air flow rate\", #Optional\n",
    "                    ylabel_2axis=\"Damper position\", #Optional\n",
    "                    show=True,\n",
    "                    nticks=11)\n",
    "print(\"Plot generated successfully!\")"
   ]
  },
  {
   "cell_type": "markdown",
   "metadata": {},
   "source": [
    "## Conclusion\n",
    "\n",
    "Congratulations! You've successfully created a simple Twin4Build model, simulated it, and visualized the results. \n",
    "\n",
    "In this tutorial, you learned how to:\n",
    "1. Create a model and add components (schedule and damper)\n",
    "2. Connect components in the model\n",
    "3. Set up and run a simulation\n",
    "4. Visualize the simulation results\n",
    "\n",
    "Next steps:\n",
    "- Try adding more components to create more complex models\n",
    "- Experiment with different schedules and parameter values\n",
    "- Explore other visualization options in the `plot` module\n",
    "- Check out the other example notebooks for more advanced features:\n",
    "  - Parameter estimation: Learn how to calibrate model parameters\n",
    "  - Neural policy control: Implement AI-based control strategies\n",
    "  - CO2 control: Model and control indoor air quality\n",
    "  - Space heating: Create thermal comfort control systems\n",
    "\n",
    "For more advanced usage and detailed documentation, please refer to the Twin4Build documentation.\n",
    "\n",
    "### Troubleshooting Tips\n",
    "- If you get import errors, make sure Twin4Build is properly installed\n",
    "- If components fail to connect, check that the input/output names match exactly\n",
    "- If simulation fails, verify that all required parameters are set\n",
    "- If plotting fails, ensure the component IDs match those in your model\n",
    "\n",
    "### Performance Tips\n",
    "- Use appropriate step sizes for your simulation (smaller steps = more accurate but slower)\n",
    "- Only save simulation results for components you need to analyze\n",
    "- Use the plot_component function for efficient visualization\n",
    "- Consider using semantic models for complex building systems"
   ]
  }
 ],
 "metadata": {
  "kernelspec": {
   "display_name": "t4b",
   "language": "python",
   "name": "python3"
  },
  "language_info": {
   "codemirror_mode": {
    "name": "ipython",
    "version": 3
   },
   "file_extension": ".py",
   "mimetype": "text/x-python",
   "name": "python",
   "nbconvert_exporter": "python",
   "pygments_lexer": "ipython3",
   "version": "3.12.9"
  }
 },
 "nbformat": 4,
 "nbformat_minor": 4
}
