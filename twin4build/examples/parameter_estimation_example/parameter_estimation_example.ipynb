{
 "cells": [
  {
   "cell_type": "markdown",
   "metadata": {},
   "source": [
    "# Twin4Build: Parameter Estimation Example\n",
    "\n",
    "Welcome to this tutorial on using the Twin4Build package! In this notebook, you'll learn how to:\n",
    "1. Setup the environment\n",
    "\n",
    "Let's get started!"
   ]
  },
  {
   "cell_type": "markdown",
   "metadata": {},
   "source": [
    "## 1. Setup\n",
    "First, let's install and import the necessary packages:"
   ]
  },
  {
   "cell_type": "code",
   "execution_count": 1,
   "metadata": {},
   "outputs": [],
   "source": [
    "# %pip install git+https://github.com/JBjoernskov/Twin4Build.git # Uncomment in google colab\n",
    "import sys\n",
    "sys.path.append(r\"C:\\Users\\jabj\\Documents\\python\\Twin4Build\")\n",
    "import twin4build as tb\n",
    "import datetime\n",
    "from dateutil import tz\n",
    "import twin4build.utils.plot.plot as plot"
   ]
  },
  {
   "cell_type": "markdown",
   "metadata": {},
   "source": [
    "## 2. Creating the Model\n",
    "\n",
    "In this example, we will use the one_room_example_model.xlsm file. \n",
    "This file contains a model of a single room with a space heater and supply and return ventilation.\n",
    "We use the translation engine to automatically create the components and connections."
   ]
  },
  {
   "cell_type": "code",
   "execution_count": null,
   "metadata": {},
   "outputs": [],
   "source": [
    "import twin4build.examples.utils as utils\n",
    "# Create a new model\n",
    "model = tb.Model(id=\"mymodel\")\n",
    "filename = utils.get_path([\"parameter_estimation_example\", \"one_room_example_model.xlsm\"])\n",
    "model.load(semantic_model_filename=filename)\n",
    "\n",
    "import matplotlib.pyplot as plt\n",
    "import os\n",
    "sem_graph = model._semantic_model.get_dir(folder_list=[\"graphs\"], filename=\"semantic_model.png\")[0]\n",
    "print(sem_graph)\n",
    "sim_graph = model._simulation_model.get_dir(folder_list=[\"graphs\"], filename=\"simulation_model.png\")[0]\n",
    "print(sim_graph)\n",
    "# image = plt.imread(system_graph)\n",
    "# plt.figure(figsize=(12,12))\n",
    "# plt.imshow(image)\n",
    "# plt.axis('off')\n",
    "# plt.show()\n"
   ]
  },
  {
   "cell_type": "markdown",
   "metadata": {},
   "source": [
    "From the model validation above we see that different types of information is missing. \n",
    "As we are focusing on parameter estimation in this example, we will add the missing information that is relevant to this task.\n",
    "Here, the \"[020B][020B_space_heater]\" component is missing an input \"supplyWaterTemperature\".\n",
    "In addition, some filenames are missing for the sensors and some of the schedules need to be defined.\n",
    "Let's add the missing information and validate again.\n"
   ]
  },
  {
   "cell_type": "code",
   "execution_count": null,
   "metadata": {},
   "outputs": [],
   "source": [
    "import twin4build.systems as systems\n",
    "def fcn(self):\n",
    "    supply_water_schedule = systems.ScheduleSystem(\n",
    "    weekDayRulesetDict = {\n",
    "        \"ruleset_default_value\": 60,\n",
    "        \"ruleset_start_minute\": [],\n",
    "        \"ruleset_end_minute\": [],\n",
    "        \"ruleset_start_hour\": [],\n",
    "        \"ruleset_end_hour\": [],\n",
    "        \"ruleset_value\": []\n",
    "    },\n",
    "    id=\"supply_water_schedule\"\n",
    "    )\n",
    "\n",
    "\n",
    "\n",
    "\n",
    "    self.add_connection(supply_water_schedule, self.components[\"[020B][020B_space_heater]\"], \"scheduleValue\", \"supplyWaterTemperature\") # Add missing input\n",
    "    self.remove_connection(supply_water_schedule, self.components[\"[020B][020B_space_heater]\"], \"scheduleValue\", \"supplyWaterTemperature\") #Test remove connection\n",
    "    self.add_connection(supply_water_schedule, self.components[\"[020B][020B_space_heater]\"], \"scheduleValue\", \"supplyWaterTemperature\") #Test add connection\n",
    "    self.components[\"020B_temperature_sensor\"].filename = utils.get_path([\"parameter_estimation_example\", \"temperature_sensor.csv\"])\n",
    "    self.components[\"020B_co2_sensor\"].filename = utils.get_path([\"parameter_estimation_example\", \"co2_sensor.csv\"])\n",
    "    self.components[\"020B_valve_position_sensor\"].filename = utils.get_path([\"parameter_estimation_example\", \"valve_position_sensor.csv\"])\n",
    "    self.components[\"020B_damper_position_sensor\"].filename = utils.get_path([\"parameter_estimation_example\", \"damper_position_sensor.csv\"])\n",
    "    self.components[\"BTA004\"].filename = utils.get_path([\"parameter_estimation_example\", \"supply_air_temperature.csv\"])\n",
    "    self.components[\"020B_co2_setpoint\"].weekDayRulesetDict = {\"ruleset_default_value\": 900,\n",
    "                                                                    \"ruleset_start_minute\": [],\n",
    "                                                                    \"ruleset_end_minute\": [],\n",
    "                                                                    \"ruleset_start_hour\": [],\n",
    "                                                                    \"ruleset_end_hour\": [],\n",
    "                                                                    \"ruleset_value\": []}\n",
    "    self.components[\"020B_occupancy_profile\"].weekDayRulesetDict = {\"ruleset_default_value\": 0,\n",
    "                                                                    \"ruleset_start_minute\": [],\n",
    "                                                                    \"ruleset_end_minute\": [],\n",
    "                                                                    \"ruleset_start_hour\": [],\n",
    "                                                                    \"ruleset_end_hour\": [],\n",
    "                                                                    \"ruleset_value\": []}\n",
    "    self.components[\"020B_temperature_heating_setpoint\"].useFile = True\n",
    "    self.components[\"020B_temperature_heating_setpoint\"].filename = utils.get_path([\"parameter_estimation_example\", \"temperature_heating_setpoint.csv\"])\n",
    "    self.components[\"outdoor_environment\"].filename = utils.get_path([\"parameter_estimation_example\", \"outdoor_environment.csv\"])\n",
    "\n",
    "\n",
    "model.load(semantic_model_filename=filename, fcn=fcn, verbose=False)"
   ]
  },
  {
   "cell_type": "markdown",
   "metadata": {},
   "source": [
    "As shown above, the validation of the model for Estimation now passes."
   ]
  },
  {
   "cell_type": "markdown",
   "metadata": {},
   "source": [
    "### Visualizing the Model (not required)\n",
    "We can visualize the model to see the components and connections.<br>\n",
    "This is not required, but it can be helpful for debugging and for building the model.<br>\n",
    "The nodes in the graph represent components, and the edges represent connections between components as defined earlier."
   ]
  },
  {
   "cell_type": "code",
   "execution_count": null,
   "metadata": {},
   "outputs": [],
   "source": [
    "import matplotlib.pyplot as plt\n",
    "import os\n",
    "sim_graph = model.get_dir(folder_list=[\"simulation_model\", \"semantic_model\", \"graphs\"], filename=\"semantic_model.png\")[0]\n",
    "image = plt.imread(sim_graph)\n",
    "plt.figure(figsize=(12,12))\n",
    "plt.imshow(image)\n",
    "plt.axis('off')\n",
    "plt.show()"
   ]
  },
  {
   "cell_type": "markdown",
   "metadata": {},
   "source": [
    "## 3. Setting up parameter estimation\n",
    "\n",
    "Now that our model is set up, let's set up the parameter estimation.\n",
    "We will use the LS estimation method (least squares) to estimate the parameters.\n",
    "The LS estimation method is a data-driven method that finds the parameters that minimize the error between the simulation results and the measurement results.\n",
    "\n",
    "\n"
   ]
  },
  {
   "cell_type": "code",
   "execution_count": null,
   "metadata": {},
   "outputs": [],
   "source": [
    "from dateutil.tz import gettz \n",
    "stepSize = 600  # Seconds\n",
    "startTime = datetime.datetime(year=2023, month=11, day=27, hour=0, minute=0, second=0,\n",
    "                                tzinfo=gettz(\"Europe/Copenhagen\"))\n",
    "endTime = datetime.datetime(year=2023, month=12, day=7, hour=0, minute=0, second=0,\n",
    "                            tzinfo=gettz(\"Europe/Copenhagen\"))\n",
    "space = model.components[\"[020B][020B_space_heater]\"]\n",
    "heating_controller = model.components[\"020B_temperature_heating_controller\"]\n",
    "co2_controller = model.components[\"020B_co2_controller\"]\n",
    "space_heater_valve = model.components[\"020B_space_heater_valve\"]\n",
    "supply_damper = model.components[\"020B_room_supply_damper\"]\n",
    "exhaust_damper = model.components[\"020B_room_exhaust_damper\"]\n",
    "\n",
    "space.CO2_start = 400\n",
    "space.fraRad_sh = 0.35\n",
    "space.T_a_nominal_sh = 333.15\n",
    "space.T_b_nominal_sh = 303.15\n",
    "space.TAir_nominal_sh = 293.15\n",
    "space.airVolume = 125.82\n",
    "\n",
    "\n",
    "targetParameters = {\"private\": {\"C_wall\": {\"components\": [space], \"x0\": 1.7e+6, \"lb\": 1e+6, \"ub\": 2e+6}, #1.5e+6\n",
    "                                \"C_air\": {\"components\": [space], \"x0\": 1.7e+6, \"lb\": 1e+4, \"ub\": 2e+6}, #3e+6\n",
    "                                \"C_boundary\": {\"components\": [space], \"x0\": 2e+4, \"lb\": 1e+4, \"ub\": 2e+5}, #1e+5\n",
    "                                \"R_out\": {\"components\": [space], \"x0\": 0.014, \"lb\": 1e-3, \"ub\": 0.5}, #0.2\n",
    "                                \"R_in\": {\"components\": [space], \"x0\": 0.024, \"lb\": 1e-3, \"ub\": 0.5}, #0.2\n",
    "                                \"R_boundary\": {\"components\": [space], \"x0\": 0.001, \"lb\": 9.9e-4, \"ub\": 0.3}, #0.005\n",
    "                                \"f_wall\": {\"components\": [space], \"x0\": 0.5, \"lb\": 0, \"ub\": 2}, #1\n",
    "                                \"f_air\": {\"components\": [space], \"x0\": 0.5, \"lb\": 0, \"ub\": 2}, #1\n",
    "                                \"kp\": {\"components\": [heating_controller, co2_controller], \"x0\": 1e-3, \"lb\": 1e-6, \"ub\": 3}, #1e-3\n",
    "                                \"Ti\": {\"components\": [heating_controller, co2_controller], \"x0\": 5, \"lb\": 1e-5, \"ub\": 10}, #3\n",
    "                                \"m_flow_nominal\": {\"components\": [space_heater_valve], \"x0\": 0.0202, \"lb\": 1e-3, \"ub\": 0.5}, #0.0202\n",
    "                                \"dpFixed_nominal\": {\"components\": [space_heater_valve], \"x0\": 1, \"lb\": 0, \"ub\": 10000}, #2000\n",
    "                                \"T_boundary\": {\"components\": [space], \"x0\": 21, \"lb\": 19, \"ub\": 24}, #20\n",
    "                                \"a\": {\"components\": [supply_damper, exhaust_damper], \"x0\": 5, \"lb\": 0.5, \"ub\": 8}, #2\n",
    "                                \"infiltration\": {\"components\": [space], \"x0\": 0.001, \"lb\": 1e-4, \"ub\": 0.3}, #0.001\n",
    "                                \"Q_occ_gain\": {\"components\": [space], \"x0\": 50, \"lb\": 10, \"ub\": 1000}, #100,\n",
    "                                \"C_supply\": {\"components\": [space], \"x0\": 400, \"lb\": 100, \"ub\": 600}, #400\n",
    "                                \"Q_flow_nominal_sh\": {\"components\": [space], \"x0\": 500, \"lb\": 10, \"ub\": 1000}, #100,\n",
    "                                \"n_sh\": {\"components\": [space], \"x0\": 1.24, \"lb\": 1, \"ub\": 2}, #1\n",
    "                                \"CO2_occ_gain\": {\"components\": [space], \"x0\": 8.18e-6, \"lb\": 1e-8, \"ub\": 1e-4}, #100,\n",
    "                                }}\n",
    "\n",
    "\n",
    "percentile = 2\n",
    "targetMeasuringDevices = {model.components[\"020B_valve_position_sensor\"]: {\"standardDeviation\": 0.01/percentile, \"scale_factor\": 1},\n",
    "                            model.components[\"020B_temperature_sensor\"]: {\"standardDeviation\": 0.1/percentile, \"scale_factor\": 20},\n",
    "                            model.components[\"020B_co2_sensor\"]: {\"standardDeviation\": 10/percentile, \"scale_factor\": 400},\n",
    "                            model.components[\"020B_damper_position_sensor\"]: {\"standardDeviation\": 0.01/percentile, \"scale_factor\": 1},\n",
    "                            }\n",
    "\n",
    "# Options for the estimation method. If the options argument is not supplied or None is supplied, default options are applied.\n",
    "options = {\"ftol\": 1e-10,\n",
    "            \"xtol\": 1e-8, # 1e-12\n",
    "            \"verbose\": 2}\n",
    "estimator = tb.Estimator(model)\n",
    "estimator.estimate(targetParameters=targetParameters,\n",
    "                    targetMeasuringDevices=targetMeasuringDevices,\n",
    "                    startTime=startTime,\n",
    "                    endTime=endTime,\n",
    "                    stepSize=stepSize,\n",
    "                    n_initialization_steps=288,\n",
    "                    method=\"LS\", #Use Least Squares\n",
    "                    options=options)\n",
    "model.load_estimation_result(estimator.result_savedir_pickle)\n",
    "\n",
    "print(\"SOLUTION\")\n",
    "print(\"C_wall: \", space.C_wall)\n",
    "print(\"C_air: \", space.C_air)\n",
    "print(\"C_boundary: \", space.C_boundary)\n",
    "print(\"R_out: \", space.R_out)\n",
    "print(\"R_in: \", space.R_in)\n",
    "print(\"R_boundary: \", space.R_boundary)\n",
    "print(\"f_wall: \", space.f_wall)\n",
    "print(\"f_air: \", space.f_air)\n",
    "print(\"Q_occ_gain: \", space.Q_occ_gain)\n",
    "print(\"kp: \", heating_controller.kp)\n",
    "print(\"Ti: \", heating_controller.Ti)\n",
    "print(\"kp: \", co2_controller.kp)\n",
    "print(\"Ti: \", co2_controller.Ti)\n",
    "print(\"m_flow_nominal: \", space_heater_valve.m_flow_nominal)\n",
    "print(\"dpFixed_nominal: \", space_heater_valve.dpFixed_nominal)\n",
    "print(\"T_boundary: \", space.T_boundary)\n",
    "print(\"a: \", supply_damper.a)\n",
    "print(\"a: \", exhaust_damper.a)\n",
    "print(\"infiltration: \", space.infiltration)\n",
    "print(\"CO2_occ_gain: \", space.CO2_occ_gain)\n",
    "print(\"Q_flow_nominal_sh: \", space.Q_flow_nominal_sh)\n",
    "print(\"n_sh: \", space.n_sh)\n",
    "print(\"C_supply: \", space.C_supply)\n",
    "\n",
    "\n",
    "\n",
    "\n"
   ]
  },
  {
   "cell_type": "markdown",
   "metadata": {},
   "source": [
    "## Visualizing the Results\n",
    "\n",
    "Finally, let's visualize the results of our simulation."
   ]
  },
  {
   "cell_type": "code",
   "execution_count": null,
   "metadata": {},
   "outputs": [],
   "source": [
    "monitor = tb.Monitor(model) #Compares the simulation results with the measured results\n",
    "monitor.monitor(startTime=startTime,\n",
    "                endTime=endTime,\n",
    "                stepSize=stepSize,\n",
    "                show=True)"
   ]
  },
  {
   "cell_type": "markdown",
   "metadata": {},
   "source": [
    "## Conclusion\n",
    "\n",
    "Congratulations! You've successfully created a simple Twin4Build model, simulated it, and visualized the results. \n",
    "\n",
    "In this tutorial, you learned how to:\n",
    "1. Create a model and add components (schedule and damper)\n",
    "2. Connect components in the model\n",
    "3. Set up and run a simulation\n",
    "4. Visualize the simulation results\n",
    "\n",
    "Next steps:\n",
    "- Try adding more components to create more complex models\n",
    "- Experiment with different schedules and parameter values\n",
    "- Explore other visualization options in the `plot` module\n",
    "\n",
    "For more advanced usage and detailed documentation, please refer to the Twin4Build documentation."
   ]
  }
 ],
 "metadata": {
  "kernelspec": {
   "display_name": "t4b",
   "language": "python",
   "name": "python3"
  },
  "language_info": {
   "codemirror_mode": {
    "name": "ipython",
    "version": 3
   },
   "file_extension": ".py",
   "mimetype": "text/x-python",
   "name": "python",
   "nbconvert_exporter": "python",
   "pygments_lexer": "ipython3",
   "version": "3.10.14"
  }
 },
 "nbformat": 4,
 "nbformat_minor": 4
}
