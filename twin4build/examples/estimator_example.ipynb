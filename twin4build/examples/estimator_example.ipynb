{
 "cells": [
  {
   "cell_type": "markdown",
   "metadata": {},
   "source": [
    "# Twin4Build: Parameter Estimation Example\n",
    "\n",
    "This notebook demonstrates how to perform parameter estimation on a building model using Twin4Build. You'll learn how to:\n",
    "1. Load a pre-built model from a semantic file\n",
    "2. Set up simulation parameters and time periods\n",
    "3. Define target parameters for estimation\n",
    "4. Configure measuring devices for calibration\n",
    "5. Run parameter estimation using automatic differentiation\n",
    "6. Visualize and compare results before and after calibration\n",
    "\n",
    "This example is particularly useful for understanding:\n",
    "- How to calibrate building models with real data\n",
    "- Parameter estimation techniques in building simulation\n",
    "- Model validation and verification\n",
    "- Automatic differentiation for gradient-based optimization\n",
    "- Thermal and mass balance parameter calibration"
   ]
  },
  {
   "cell_type": "markdown",
   "metadata": {},
   "source": [
    "## 1. Setup\n",
    "First, let's install and import the necessary packages. If you're running this in Google Colab, uncomment the pip install line."
   ]
  },
  {
   "cell_type": "code",
   "execution_count": 1,
   "metadata": {},
   "outputs": [],
   "source": [
    "import sys\n",
    "sys.path.append(r\"C:\\Users\\jabj\\Documents\\python\\Twin4Build\")\n",
    "\n",
    "import twin4build as tb\n",
    "import datetime\n",
    "from dateutil import tz\n",
    "import twin4build.examples.utils as utils"
   ]
  },
  {
   "cell_type": "markdown",
   "metadata": {},
   "source": [
    "## 2. Load the Model\n",
    "\n",
    "We'll load a pre-built model from a semantic file. This model contains a building space with various components including:\n",
    "- Building space with thermal and mass parameters\n",
    "- Space heater for heating\n",
    "- Temperature and CO2 controllers\n",
    "- Valves and dampers for control\n",
    "- Various sensors for measurement"
   ]
  },
  {
   "cell_type": "code",
   "execution_count": null,
   "metadata": {},
   "outputs": [],
   "source": [
    "# Create a new model\n",
    "model = tb.Model(id=\"building_space_with_space_heater_model\")\n",
    "\n",
    "# Load the model from semantic file\n",
    "filename_simulation = utils.get_path([\"parameter_estimation_example\", \"semantic_model.ttl\"])\n",
    "model.load(simulation_model_filename=filename_simulation, verbose=False)"
   ]
  },
  {
   "cell_type": "markdown",
   "metadata": {},
   "source": [
    "## 3. Set Up Simulation Parameters\n",
    "\n",
    "Define the simulation time period and step size. We'll simulate for several days to capture different operating conditions."
   ]
  },
  {
   "cell_type": "code",
   "execution_count": null,
   "metadata": {},
   "outputs": [],
   "source": [
    "# Set up simulation parameters\n",
    "simulator = tb.Simulator(model)\n",
    "stepSize = 1200  # 20 minutes in seconds\n",
    "startTime = datetime.datetime(year=2023, month=11, day=27, hour=0, minute=0, second=0,\n",
    "                                tzinfo=tz.gettz(\"Europe/Copenhagen\"))\n",
    "endTime = datetime.datetime(year=2023, month=12, day=1, hour=0, minute=0, second=0,\n",
    "                            tzinfo=tz.gettz(\"Europe/Copenhagen\"))\n",
    "\n",
    "print(f\"Simulation period: {startTime} to {endTime}\")\n",
    "print(f\"Step size: {stepSize} seconds ({stepSize/60:.1f} minutes)\")\n"
   ]
  },
  {
   "cell_type": "markdown",
   "metadata": {},
   "source": [
    "## 4. Identify Model Components\n",
    "\n",
    "Let's identify the key components in our model that we'll be working with for parameter estimation."
   ]
  },
  {
   "cell_type": "code",
   "execution_count": null,
   "metadata": {},
   "outputs": [],
   "source": [
    "# Get references to key components\n",
    "space = model.components[\"020B\"]\n",
    "space_heater = model.components[\"020B_space_heater\"]\n",
    "heating_controller = model.components[\"020B_temperature_heating_controller\"]\n",
    "co2_controller = model.components[\"020B_co2_controller\"]\n",
    "space_heater_valve = model.components[\"020B_space_heater_valve\"]\n",
    "supply_damper = model.components[\"020B_room_supply_damper\"]\n",
    "exhaust_damper = model.components[\"020B_room_exhaust_damper\"]\n",
    "\n",
    "print(\"Key components identified:\")\n",
    "print(f\"- Building space: {space.id}\")\n",
    "print(f\"- Space heater: {space_heater.id}\")\n",
    "print(f\"- Heating controller: {heating_controller.id}\")\n",
    "print(f\"- CO2 controller: {co2_controller.id}\")\n",
    "print(f\"- Space heater valve: {space_heater_valve.id}\")\n",
    "print(f\"- Supply damper: {supply_damper.id}\")\n",
    "print(f\"- Exhaust damper: {exhaust_damper.id}\")"
   ]
  },
  {
   "cell_type": "markdown",
   "metadata": {},
   "source": [
    "## 5. Define Target Parameters for Estimation\n",
    "\n",
    "We'll define the parameters we want to estimate. These include:\n",
    "- Thermal parameters (capacitances, resistances, radiation factors)\n",
    "- Mass parameters (volume, CO2 generation, infiltration)\n",
    "- Space heater parameters (thermal mass, conductance)\n",
    "- Controller parameters (PID gains)\n",
    "- Valve and damper parameters (flow rates, authority)\n",
    "\n",
    "Each parameter has initial values, lower bounds, and upper bounds."
   ]
  },
  {
   "cell_type": "code",
   "execution_count": null,
   "metadata": {},
   "outputs": [],
   "source": [
    "targetParameters = {\"private\": {\n",
    "    # Thermal parameters\n",
    "    \"thermal.C_air\": {\"components\": [space], \"x0\": 2e+6, \"lb\": 1e+6, \"ub\": 1e+7},                # Thermal capacitance of indoor air [J/K]\n",
    "    \"thermal.C_wall\": {\"components\": [space], \"x0\": 2e+6, \"lb\": 1e+6, \"ub\": 1e+7},               # Thermal capacitance of exterior wall [J/K]\n",
    "    \"thermal.C_boundary\": {\"components\": [space], \"x0\": 5e+5, \"lb\": 1e+4, \"ub\": 1e+6},               # Thermal capacitance of exterior wall [J/K]\n",
    "    \"thermal.R_out\": {\"components\": [space], \"x0\": 0.05, \"lb\": 0.01, \"ub\": 1},                # Thermal resistance between wall and outdoor [K/W]\n",
    "    \"thermal.R_in\": {\"components\": [space], \"x0\": 0.05, \"lb\": 0.01, \"ub\": 1},                 # Thermal resistance between wall and indoor [K/W]\n",
    "    \"thermal.R_boundary\": {\"components\": [space], \"x0\": 0.01, \"lb\": 0.0001, \"ub\": 1},                 # Thermal resistance between wall and indoor [K/W]\n",
    "    \"thermal.f_wall\": {\"components\": [space], \"x0\": 0.3, \"lb\": 0, \"ub\": 1},         # Radiation factor for exterior wall\n",
    "    \"thermal.f_air\": {\"components\": [space], \"x0\": 0.1, \"lb\": 0, \"ub\": 1},          # Radiation factor for air\n",
    "    \"thermal.Q_occ_gain\": {\"components\": [space], \"x0\": 100.0, \"lb\": 10, \"ub\": 200},   # Heat gain per occupant [W]\n",
    "\n",
    "    # Mass parameters\n",
    "    \"mass.V\": {\"components\": [space], \"x0\": 100, \"lb\": 10, \"ub\": 1000}, # Volume of the space [m³]\n",
    "    \"mass.G_occ\": {\"components\": [space], \"x0\": 8.18e-6, \"lb\": 1e-8, \"ub\": 1e-4}, # CO2 generation rate per occupant [ppm·kg/s]\n",
    "    \"mass.m_inf\": {\"components\": [space], \"x0\": 0.001, \"lb\": 1e-6, \"ub\": 0.3}, # Infiltration rate [kg/s]\n",
    "\n",
    "    # Space heater parameters\n",
    "    \"thermalMassHeatCapacity\": {\"components\": [space_heater], \"x0\": 10000, \"lb\": 1000, \"ub\": 50000}, # Thermal mass heat capacity [J/K]\n",
    "    \"UA\": {\"components\": [space_heater], \"x0\": 30, \"lb\": 1, \"ub\": 100}, # Thermal conductance [W/K]\n",
    "\n",
    "    # Heating controller parameters\n",
    "    \"kp\": {\"components\": [heating_controller, co2_controller], \"x0\": [0.001, -0.001], \"lb\": [1e-5, -1], \"ub\": [1, -1e-5]}, # Proportional gain\n",
    "    \"Ti\": {\"components\": [heating_controller, co2_controller], \"x0\": [10, 10], \"lb\": [1, 1], \"ub\": [100, 100]}, # Integral gain\n",
    "    \"Td\": {\"components\": [heating_controller, co2_controller], \"x0\": [0, 0], \"lb\": [0, 0], \"ub\": [1, 1]}, # Derivative gain\n",
    "\n",
    "    # Space heater valve parameters\n",
    "    \"waterFlowRateMax\": {\"components\": [space_heater_valve], \"x0\": 0.01, \"lb\": 1e-6, \"ub\": 0.1}, # Maximum water flow rate [m³/s]\n",
    "    \"valveAuthority\": {\"components\": [space_heater_valve], \"x0\": 0.8, \"lb\": 0.4, \"ub\": 1}, # Valve authority\n",
    "\n",
    "    # Damper parameters\n",
    "    \"a\": {\"components\": [supply_damper, exhaust_damper], \"x0\": 1, \"lb\": 1, \"ub\": 10}, # Shape parameter\n",
    "    \"nominalAirFlowRate\": {\"components\": [supply_damper, exhaust_damper], \"x0\": 0.001, \"lb\": 1e-5, \"ub\": 1}, # Maximum water flow rate [m³/s]\n",
    "}}\n",
    "\n",
    "print(f\"Defined {len(targetParameters['private'])} parameters for estimation\")\n",
    "print(\"\\nParameter categories:\")\n",
    "categories = {\n",
    "    \"Thermal\": [k for k in targetParameters['private'].keys() if k.startswith('thermal.')],\n",
    "    \"Mass\": [k for k in targetParameters['private'].keys() if k.startswith('mass.')],\n",
    "    \"Space Heater\": [k for k in targetParameters['private'].keys() if k in ['thermalMassHeatCapacity', 'UA']],\n",
    "    \"Controllers\": [k for k in targetParameters['private'].keys() if k in ['kp', 'Ti', 'Td']],\n",
    "    \"Valve\": [k for k in targetParameters['private'].keys() if k in ['waterFlowRateMax', 'valveAuthority']],\n",
    "    \"Dampers\": [k for k in targetParameters['private'].keys() if k in ['a', 'nominalAirFlowRate']]\n",
    "}\n",
    "for category, params in categories.items():\n",
    "    print(f\"- {category}: {len(params)} parameters\")"
   ]
  },
  {
   "cell_type": "markdown",
   "metadata": {},
   "source": [
    "## 6. Configure Measuring Devices\n",
    "\n",
    "Define the sensors that will provide measurement data for calibration. These sensors measure:\n",
    "- Valve position\n",
    "- Indoor temperature\n",
    "- CO2 concentration\n",
    "- Damper position"
   ]
  },
  {
   "cell_type": "code",
   "execution_count": null,
   "metadata": {},
   "outputs": [],
   "source": [
    "targetMeasuringDevices = [\n",
    "    model.components[\"020B_valve_position_sensor\"],\n",
    "    model.components[\"020B_temperature_sensor\"],\n",
    "    model.components[\"020B_co2_sensor\"],\n",
    "    model.components[\"020B_damper_position_sensor\"]\n",
    "]\n",
    "\n",
    "print(\"Measuring devices for calibration:\")\n",
    "for device in targetMeasuringDevices:\n",
    "    print(f\"- {device.id}\")"
   ]
  },
  {
   "cell_type": "markdown",
   "metadata": {},
   "source": [
    "## 7. Run Initial Simulation\n",
    "\n",
    "Before parameter estimation, let's run a simulation with the initial parameter values to see how well the model performs."
   ]
  },
  {
   "cell_type": "code",
   "execution_count": null,
   "metadata": {},
   "outputs": [],
   "source": [
    "# Run initial simulation for comparison\n",
    "simulator.simulate(\n",
    "    stepSize=stepSize,\n",
    "    startTime=startTime,\n",
    "    endTime=endTime\n",
    ")\n",
    "\n",
    "print(\"Initial simulation completed successfully!\")"
   ]
  },
  {
   "cell_type": "markdown",
   "metadata": {},
   "source": [
    "## 8. Plot Initial Results\n",
    "\n",
    "Let's visualize the initial simulation results to understand the model behavior before calibration."
   ]
  },
  {
   "cell_type": "code",
   "execution_count": null,
   "metadata": {},
   "outputs": [],
   "source": [
    "# Plot initial results\n",
    "fig, axes = tb.plot.plot_component(\n",
    "    simulator,\n",
    "    components_1axis=[\n",
    "        (\"020B\", \"indoorTemperature\", \"output\"),\n",
    "        (\"outdoor_environment\", \"outdoorTemperature\", \"output\"),\n",
    "        (heating_controller.id, \"setpointValue\", \"input\"),\n",
    "    ],\n",
    "    components_2axis=[\n",
    "        (\"020B_space_heater\", \"Power\", \"output\"),\n",
    "        (\"020B\", \"heatGain\", \"input\"),\n",
    "    ],\n",
    "    components_3axis=[\n",
    "        (heating_controller.id, \"inputSignal\", \"output\"),\n",
    "    ],\n",
    "    ylabel_1axis=\"Temperature [°C]\",\n",
    "    ylabel_2axis=\"Power [W]\",\n",
    "    ylabel_3axis=\"Water flow rate [m³/s]\",\n",
    "    title=\"Before calibration\",\n",
    "    show=False,\n",
    "    nticks=11\n",
    ")\n",
    "\n",
    "print(\"Initial simulation plots generated.\")"
   ]
  },
  {
   "cell_type": "markdown",
   "metadata": {},
   "source": [
    "## 9. Create and Configure Estimator\n",
    "\n",
    "Now we'll create an estimator instance and configure it for parameter estimation using automatic differentiation."
   ]
  },
  {
   "cell_type": "code",
   "execution_count": null,
   "metadata": {},
   "outputs": [],
   "source": [
    "# Create estimator\n",
    "estimator = tb.Estimator(simulator)\n",
    "\n",
    "# Configure optimization options\n",
    "options = {\n",
    "    \"max_nfev\": 100,  # Maximum number of function evaluations\n",
    "    \"xtol\": 1e-10,    # Tolerance for parameter convergence\n",
    "    \"ftol\": 0         # Tolerance for function value convergence\n",
    "}\n",
    "\n",
    "print(\"Estimator created and configured.\")\n",
    "print(f\"Optimization options: {options}\")"
   ]
  },
  {
   "cell_type": "markdown",
   "metadata": {},
   "source": [
    "## 10. Run Parameter Estimation\n",
    "\n",
    "Now we'll run the parameter estimation using the LS_AD (Least Squares with Automatic Differentiation) method. This method uses automatic differentiation to compute gradients efficiently."
   ]
  },
  {
   "cell_type": "code",
   "execution_count": null,
   "metadata": {},
   "outputs": [],
   "source": [
    "# Run parameter estimation\n",
    "result_ad = estimator.estimate(\n",
    "    targetParameters=targetParameters,\n",
    "    targetMeasuringDevices=targetMeasuringDevices,\n",
    "    startTime=startTime,\n",
    "    endTime=endTime,\n",
    "    stepSize=stepSize,\n",
    "    n_initialization_steps=20,\n",
    "    method=\"LS_AD\",  # Use automatic differentiation to obtain jacobian\n",
    "    options=options,\n",
    ")\n"
   ]
  },
  {
   "cell_type": "markdown",
   "metadata": {},
   "source": [
    "## 11. Plot Calibrated Results\n",
    "\n",
    "Let's visualize the results after parameter calibration to see the improvement in model performance."
   ]
  },
  {
   "cell_type": "code",
   "execution_count": null,
   "metadata": {},
   "outputs": [],
   "source": [
    "# Plot results after calibration\n",
    "fig, axes = tb.plot.plot_component(\n",
    "    simulator,\n",
    "    components_1axis=[\n",
    "        (\"020B\", \"indoorTemperature\", \"output\"),\n",
    "        (heating_controller.id, \"setpointValue\", \"input\"),\n",
    "        (estimator.actual_readings[model.components[\"020B_temperature_sensor\"].id], \"Actual temperature\"),\n",
    "    ],\n",
    "    components_2axis=[\n",
    "        (\"020B_space_heater\", \"Power\", \"output\"),\n",
    "    ],\n",
    "    components_3axis=[\n",
    "        (\"020B_space_heater_valve\", \"valvePosition\", \"output\"),\n",
    "    ],\n",
    "    ylabel_1axis=\"Temperature [°C]\",\n",
    "    ylabel_2axis=\"Power [W]\",\n",
    "    ylabel_3axis=\"Valve position [0-1]\",\n",
    "    title=\"After calibration\",\n",
    "    show=False,\n",
    "    nticks=11\n",
    ")\n",
    "\n",
    "print(\"Calibrated simulation plots generated.\")"
   ]
  },
  {
   "cell_type": "markdown",
   "metadata": {},
   "source": [
    "## 12. Compare Valve Position\n",
    "\n",
    "Let's specifically compare the valve position measurements to see how well the model matches the actual data."
   ]
  },
  {
   "cell_type": "code",
   "execution_count": null,
   "metadata": {},
   "outputs": [],
   "source": [
    "# Plot valve position comparison\n",
    "fig, axes = tb.plot.plot_component(\n",
    "    simulator,\n",
    "    components_1axis=[\n",
    "        (\"020B_valve_position_sensor\", \"measuredValue\", \"input\"),\n",
    "        (estimator.actual_readings[model.components[\"020B_valve_position_sensor\"].id], \"Actual valve position\"),\n",
    "    ],\n",
    "    ylabel_1axis=\"Valve position [0-1]\",\n",
    "    title=\"Valve position comparison\",\n",
    "    show=False,\n",
    "    nticks=11\n",
    ")\n",
    "\n",
    "print(\"Valve position comparison plot generated.\")"
   ]
  },
  {
   "cell_type": "markdown",
   "metadata": {},
   "source": [
    "## 13. Compare Temperature Measurements\n",
    "\n",
    "Finally, let's compare the temperature measurements to see the improvement in model accuracy."
   ]
  },
  {
   "cell_type": "code",
   "execution_count": null,
   "metadata": {},
   "outputs": [],
   "source": [
    "# Plot temperature comparison\n",
    "fig, axes = tb.plot.plot_component(\n",
    "    simulator,\n",
    "    components_1axis=[\n",
    "        (\"020B_temperature_sensor\", \"measuredValue\", \"input\"),\n",
    "        (estimator.actual_readings[model.components[\"020B_temperature_sensor\"].id], \"Actual temperature\"),\n",
    "    ],\n",
    "    ylabel_1axis=\"Temperature [°C]\",\n",
    "    title=\"Temperature comparison\",\n",
    "    show=True,\n",
    "    nticks=11\n",
    ")\n",
    "\n",
    "print(\"Temperature comparison plot generated.\")\n",
    "print(\"\\nParameter estimation example completed successfully!\")"
   ]
  },
  {
   "cell_type": "markdown",
   "metadata": {},
   "source": [
    "## Summary\n",
    "\n",
    "In this example, we demonstrated how to:\n",
    "\n",
    "1. **Load a pre-built model** from a semantic file containing building components\n",
    "2. **Set up simulation parameters** including time period and step size\n",
    "3. **Define target parameters** for estimation with appropriate bounds\n",
    "4. **Configure measuring devices** to provide calibration data\n",
    "5. **Run parameter estimation** using automatic differentiation (LS_AD method)\n",
    "6. **Visualize results** before and after calibration\n",
    "\n",
    "The parameter estimation process helps improve the accuracy of building models by calibrating them against real measurement data. This is essential for creating reliable digital twins that can be used for building control optimization, energy analysis, and predictive maintenance.\n",
    "\n",
    "Key benefits of this approach:\n",
    "- **Automatic differentiation** provides efficient gradient computation\n",
    "- **Multiple parameter types** can be estimated simultaneously\n",
    "- **Bounded optimization** ensures physically realistic parameter values\n",
    "- **Visual comparison** helps validate the calibration results"
   ]
  }
 ],
 "metadata": {
  "kernelspec": {
   "display_name": "t4b",
   "language": "python",
   "name": "python3"
  },
  "language_info": {
   "codemirror_mode": {
    "name": "ipython",
    "version": 3
   },
   "file_extension": ".py",
   "mimetype": "text/x-python",
   "name": "python",
   "nbconvert_exporter": "python",
   "pygments_lexer": "ipython3",
   "version": "3.12.9"
  }
 },
 "nbformat": 4,
 "nbformat_minor": 2
}
