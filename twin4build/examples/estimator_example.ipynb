{
 "cells": [
  {
   "cell_type": "markdown",
   "metadata": {},
   "source": [
    "# Twin4Build: Parameter Estimation Example\n",
    "\n",
    "This notebook demonstrates how to perform parameter estimation on a building model using Twin4Build. You'll learn how to:\n",
    "1. Load a pre-built model from a semantic file\n",
    "2. Set up simulation parameters and time periods\n",
    "3. Define target parameters for estimation\n",
    "4. Configure measuring devices for calibration\n",
    "5. Run parameter estimation using automatic differentiation\n",
    "6. Visualize and compare results before and after calibration\n",
    "\n",
    "This example is particularly useful for understanding:\n",
    "- How to calibrate building models with real data\n",
    "- Parameter estimation techniques in building simulation\n",
    "- Model validation and verification\n",
    "- Automatic differentiation for gradient-based optimization\n",
    "- Thermal and mass balance parameter calibration"
   ]
  },
  {
   "cell_type": "markdown",
   "metadata": {},
   "source": [
    "## 1. Setup\n",
    "First, let's install and import the necessary packages. If you're running this in Google Colab, uncomment the pip install line.\n",
    "Note that colab has a dependency issue and asks you to restart the runtime. It will work after you restart the runtime and run the cell a 2nd time.  "
   ]
  },
  {
   "cell_type": "code",
   "execution_count": 1,
   "metadata": {},
   "outputs": [],
   "source": [
    "# %pip install twin4build # Uncomment in google colab\n",
    "import twin4build as tb\n",
    "import datetime\n",
    "from dateutil import tz\n",
    "import twin4build.examples.utils as utils"
   ]
  },
  {
   "cell_type": "markdown",
   "metadata": {},
   "source": [
    "## 2. Load the Model\n",
    "\n",
    "We'll load a pre-built model from a semantic file. This model contains a building space with various components including:\n",
    "- Building space with thermal and mass parameters\n",
    "- Space heater for heating\n",
    "- Temperature and CO2 controllers\n",
    "- Valves and dampers for control\n",
    "- Various sensors for measurement"
   ]
  },
  {
   "cell_type": "code",
   "execution_count": 2,
   "metadata": {},
   "outputs": [
    {
     "name": "stdout",
     "output_type": "stream",
     "text": [
      "Drawing simulation model...[OK]\n"
     ]
    },
    {
     "ename": "ValueError",
     "evalue": "Line not found: 'Loading model'current level: 0verbose: 3",
     "output_type": "error",
     "traceback": [
      "\u001b[31m---------------------------------------------------------------------------\u001b[39m",
      "\u001b[31mValueError\u001b[39m                                Traceback (most recent call last)",
      "\u001b[36mCell\u001b[39m\u001b[36m \u001b[39m\u001b[32mIn[2]\u001b[39m\u001b[32m, line 6\u001b[39m\n\u001b[32m      4\u001b[39m \u001b[38;5;66;03m# Load the model from semantic file\u001b[39;00m\n\u001b[32m      5\u001b[39m filename_simulation = utils.get_path([\u001b[33m\"\u001b[39m\u001b[33mestimator_example\u001b[39m\u001b[33m\"\u001b[39m, \u001b[33m\"\u001b[39m\u001b[33msemantic_model.ttl\u001b[39m\u001b[33m\"\u001b[39m])\n\u001b[32m----> \u001b[39m\u001b[32m6\u001b[39m \u001b[43mmodel\u001b[49m\u001b[43m.\u001b[49m\u001b[43mload\u001b[49m\u001b[43m(\u001b[49m\u001b[43msimulation_model_filename\u001b[49m\u001b[43m=\u001b[49m\u001b[43mfilename_simulation\u001b[49m\u001b[43m,\u001b[49m\u001b[43m \u001b[49m\u001b[43mverbose\u001b[49m\u001b[43m=\u001b[49m\u001b[32;43m0\u001b[39;49m\u001b[43m)\u001b[49m\n\u001b[32m      7\u001b[39m \u001b[38;5;28mprint\u001b[39m(model)\n",
      "\u001b[36mFile \u001b[39m\u001b[32m~\\Documents\\python\\Twin4Build\\twin4build\\model\\model.py:544\u001b[39m, in \u001b[36mModel.load\u001b[39m\u001b[34m(self, semantic_model_filename, simulation_model_filename, fcn, draw_semantic_model, draw_simulation_model, verbose, validate_model, force_config_overwrite, logfile)\u001b[39m\n\u001b[32m    542\u001b[39m \u001b[38;5;28;01mwith\u001b[39;00m warnings.catch_warnings():\n\u001b[32m    543\u001b[39m     warnings.simplefilter(\u001b[33m\"\u001b[39m\u001b[33mignore\u001b[39m\u001b[33m\"\u001b[39m)\n\u001b[32m--> \u001b[39m\u001b[32m544\u001b[39m     \u001b[38;5;28;43mself\u001b[39;49m\u001b[43m.\u001b[49m\u001b[43m_load\u001b[49m\u001b[43m(\u001b[49m\n\u001b[32m    545\u001b[39m \u001b[43m        \u001b[49m\u001b[43msemantic_model_filename\u001b[49m\u001b[43m=\u001b[49m\u001b[43msemantic_model_filename\u001b[49m\u001b[43m,\u001b[49m\n\u001b[32m    546\u001b[39m \u001b[43m        \u001b[49m\u001b[43msimulation_model_filename\u001b[49m\u001b[43m=\u001b[49m\u001b[43msimulation_model_filename\u001b[49m\u001b[43m,\u001b[49m\n\u001b[32m    547\u001b[39m \u001b[43m        \u001b[49m\u001b[43mfcn\u001b[49m\u001b[43m=\u001b[49m\u001b[43mfcn\u001b[49m\u001b[43m,\u001b[49m\n\u001b[32m    548\u001b[39m \u001b[43m        \u001b[49m\u001b[43mdraw_semantic_model\u001b[49m\u001b[43m=\u001b[49m\u001b[43mdraw_semantic_model\u001b[49m\u001b[43m,\u001b[49m\n\u001b[32m    549\u001b[39m \u001b[43m        \u001b[49m\u001b[43mdraw_simulation_model\u001b[49m\u001b[43m=\u001b[49m\u001b[43mdraw_simulation_model\u001b[49m\u001b[43m,\u001b[49m\n\u001b[32m    550\u001b[39m \u001b[43m        \u001b[49m\u001b[43mverbose\u001b[49m\u001b[43m=\u001b[49m\u001b[43mverbose\u001b[49m\u001b[43m,\u001b[49m\n\u001b[32m    551\u001b[39m \u001b[43m        \u001b[49m\u001b[43mvalidate_model\u001b[49m\u001b[43m=\u001b[49m\u001b[43mvalidate_model\u001b[49m\u001b[43m,\u001b[49m\n\u001b[32m    552\u001b[39m \u001b[43m        \u001b[49m\u001b[43mforce_config_overwrite\u001b[49m\u001b[43m=\u001b[49m\u001b[43mforce_config_overwrite\u001b[49m\u001b[43m,\u001b[49m\n\u001b[32m    553\u001b[39m \u001b[43m        \u001b[49m\u001b[43mlogfile\u001b[49m\u001b[43m=\u001b[49m\u001b[43mlogfile\u001b[49m\u001b[43m,\u001b[49m\n\u001b[32m    554\u001b[39m \u001b[43m    \u001b[49m\u001b[43m)\u001b[49m\n",
      "\u001b[36mFile \u001b[39m\u001b[32m~\\Documents\\python\\Twin4Build\\twin4build\\utils\\print_progress.py:872\u001b[39m, in \u001b[36mreset_print.<locals>.wrapper\u001b[39m\u001b[34m(*args, **kwargs)\u001b[39m\n\u001b[32m    870\u001b[39m \u001b[38;5;28;01melse\u001b[39;00m:\n\u001b[32m    871\u001b[39m     reset_PRINTPROGRESS = \u001b[38;5;28;01mFalse\u001b[39;00m\n\u001b[32m--> \u001b[39m\u001b[32m872\u001b[39m \u001b[43mf\u001b[49m\u001b[43m(\u001b[49m\u001b[43m*\u001b[49m\u001b[43margs\u001b[49m\u001b[43m,\u001b[49m\u001b[43m \u001b[49m\u001b[43m*\u001b[49m\u001b[43m*\u001b[49m\u001b[43mkwargs\u001b[49m\u001b[43m)\u001b[49m\n\u001b[32m    873\u001b[39m \u001b[38;5;28;01mif\u001b[39;00m reset_PRINTPROGRESS:\n\u001b[32m    874\u001b[39m     PRINTPROGRESS.reset()\n",
      "\u001b[36mFile \u001b[39m\u001b[32m~\\Documents\\python\\Twin4Build\\twin4build\\model\\model.py:653\u001b[39m, in \u001b[36mModel._load\u001b[39m\u001b[34m(self, semantic_model_filename, simulation_model_filename, fcn, draw_semantic_model, draw_simulation_model, verbose, validate_model, force_config_overwrite, logfile)\u001b[39m\n\u001b[32m    650\u001b[39m     PRINTPROGRESS(\u001b[33m\"\u001b[39m\u001b[33mDrawing simulation model\u001b[39m\u001b[33m\"\u001b[39m, status=\u001b[33m\"\u001b[39m\u001b[33m[OK]\u001b[39m\u001b[33m\"\u001b[39m, change_status=\u001b[38;5;28;01mTrue\u001b[39;00m)\n\u001b[32m    652\u001b[39m PRINTPROGRESS.remove_level()\n\u001b[32m--> \u001b[39m\u001b[32m653\u001b[39m \u001b[43mPRINTPROGRESS\u001b[49m\u001b[43m(\u001b[49m\u001b[33;43m\"\u001b[39;49m\u001b[33;43mLoading model\u001b[39;49m\u001b[33;43m\"\u001b[39;49m\u001b[43m,\u001b[49m\u001b[43m \u001b[49m\u001b[43mstatus\u001b[49m\u001b[43m=\u001b[49m\u001b[33;43m\"\u001b[39;49m\u001b[33;43m[OK]\u001b[39;49m\u001b[33;43m\"\u001b[39;49m\u001b[43m,\u001b[49m\u001b[43m \u001b[49m\u001b[43mchange_status\u001b[49m\u001b[43m=\u001b[49m\u001b[38;5;28;43;01mTrue\u001b[39;49;00m\u001b[43m)\u001b[49m\n",
      "\u001b[36mFile \u001b[39m\u001b[32m~\\Documents\\python\\Twin4Build\\twin4build\\utils\\print_progress.py:810\u001b[39m, in \u001b[36mPrintProgress.__call__\u001b[39m\u001b[34m(self, message, status, change_status, ignore_no_match)\u001b[39m\n\u001b[32m    808\u001b[39m         \u001b[38;5;28;01mpass\u001b[39;00m\n\u001b[32m    809\u001b[39m     \u001b[38;5;28;01melse\u001b[39;00m:\n\u001b[32m--> \u001b[39m\u001b[32m810\u001b[39m         \u001b[38;5;28;01mraise\u001b[39;00m \u001b[38;5;167;01mValueError\u001b[39;00m(\n\u001b[32m    811\u001b[39m             \u001b[33mf\u001b[39m\u001b[33m\"\u001b[39m\u001b[33mLine not found: \u001b[39m\u001b[33m'\u001b[39m\u001b[38;5;132;01m{\u001b[39;00mmessage\u001b[38;5;132;01m}\u001b[39;00m\u001b[33m'\u001b[39m\u001b[33m\"\u001b[39m\n\u001b[32m    812\u001b[39m             + \u001b[33mf\u001b[39m\u001b[33m\"\u001b[39m\u001b[33mcurrent level: \u001b[39m\u001b[38;5;132;01m{\u001b[39;00m\u001b[38;5;28mself\u001b[39m.current_level\u001b[38;5;132;01m}\u001b[39;00m\u001b[33m\"\u001b[39m\n\u001b[32m    813\u001b[39m             + \u001b[33mf\u001b[39m\u001b[33m\"\u001b[39m\u001b[33mverbose: \u001b[39m\u001b[38;5;132;01m{\u001b[39;00m\u001b[38;5;28mself\u001b[39m.verbose\u001b[38;5;132;01m}\u001b[39;00m\u001b[33m\"\u001b[39m\n\u001b[32m    814\u001b[39m         )\n\u001b[32m    815\u001b[39m \u001b[38;5;28;01melif\u001b[39;00m \u001b[38;5;28mlen\u001b[39m(match_idx) > \u001b[32m1\u001b[39m:\n\u001b[32m    816\u001b[39m     \u001b[38;5;28;01mraise\u001b[39;00m \u001b[38;5;167;01mValueError\u001b[39;00m(\u001b[33m\"\u001b[39m\u001b[33mMultiple lines found\u001b[39m\u001b[33m\"\u001b[39m)\n",
      "\u001b[31mValueError\u001b[39m: Line not found: 'Loading model'current level: 0verbose: 3"
     ]
    }
   ],
   "source": [
    "# Create a new model\n",
    "model = tb.Model(id=\"estimator_example\")\n",
    "\n",
    "# Load the model from semantic file\n",
    "filename_simulation = utils.get_path([\"estimator_example\", \"semantic_model.ttl\"])\n",
    "model.load(simulation_model_filename=filename_simulation, verbose=0)\n",
    "print(model)"
   ]
  },
  {
   "cell_type": "markdown",
   "metadata": {},
   "source": [
    "## (Change filepaths to match this local machine)\n",
    "\n",
    "This step is only necesarry if the (.ttl) file you are loading was not serialized on your machine. (In this case, we need to change tyhe machine-dependent file paths )"
   ]
  },
  {
   "cell_type": "code",
   "execution_count": null,
   "metadata": {},
   "outputs": [],
   "source": [
    "model.components[\"020B_temperature_sensor\"].filename = utils.get_path([\"estimator_example\", \"temperature_sensor.csv\"])\n",
    "model.components[\"020B_co2_sensor\"].filename = utils.get_path([\"estimator_example\", \"co2_sensor.csv\"])\n",
    "model.components[\"020B_valve_position_sensor\"].filename = utils.get_path([\"estimator_example\", \"valve_position_sensor.csv\"])\n",
    "model.components[\"020B_damper_position_sensor\"].filename = utils.get_path([\"estimator_example\", \"damper_position_sensor.csv\"])\n",
    "model.components[\"BTA004\"].filename = utils.get_path([\"estimator_example\", \"supply_air_temperature.csv\"])\n",
    "model.components[\"020B_temperature_heating_setpoint\"].filename = utils.get_path([\"estimator_example\", \"temperature_heating_setpoint.csv\"])\n",
    "model.components[\"outdoor_environment\"].filename_outdoorTemperature = utils.get_path([\"estimator_example\", \"outdoor_environment.csv\"])\n",
    "model.components[\"outdoor_environment\"].filename_globalIrradiation = utils.get_path([\"estimator_example\", \"outdoor_environment.csv\"])\n",
    "model.components[\"outdoor_environment\"].filename_outdoorCo2Concentration = utils.get_path([\"estimator_example\", \"outdoor_environment.csv\"])"
   ]
  },
  {
   "cell_type": "markdown",
   "metadata": {},
   "source": [
    "## 3. Set Up Simulation Parameters\n",
    "\n",
    "Define the simulation time period and step size. We'll simulate for several days to capture different operating conditions."
   ]
  },
  {
   "cell_type": "code",
   "execution_count": null,
   "metadata": {},
   "outputs": [],
   "source": [
    "# Set up simulation parameters\n",
    "simulator = tb.Simulator(model)\n",
    "step_size = 1200  # 20 minutes in seconds\n",
    "start_time = datetime.datetime(year=2023, month=11, day=27, hour=0, minute=0, second=0,\n",
    "                                tzinfo=tz.gettz(\"Europe/Copenhagen\"))\n",
    "end_time = datetime.datetime(year=2023, month=12, day=1, hour=0, minute=0, second=0,\n",
    "                            tzinfo=tz.gettz(\"Europe/Copenhagen\"))\n",
    "\n",
    "print(f\"Simulation period: {start_time} to {end_time}\")\n",
    "print(f\"Step size: {step_size} seconds ({step_size/60:.1f} minutes)\")\n"
   ]
  },
  {
   "cell_type": "markdown",
   "metadata": {},
   "source": [
    "## 4. Identify Model Components\n",
    "\n",
    "Let's identify the key components in our model that we'll be working with for parameter estimation."
   ]
  },
  {
   "cell_type": "code",
   "execution_count": null,
   "metadata": {},
   "outputs": [],
   "source": [
    "# Get references to key components\n",
    "space = model.components[\"020B\"]\n",
    "space_heater = model.components[\"020B_space_heater\"]\n",
    "heating_controller = model.components[\"020B_temperature_heating_controller\"]\n",
    "co2_controller = model.components[\"020B_co2_controller\"]\n",
    "space_heater_valve = model.components[\"020B_space_heater_valve\"]\n",
    "supply_damper = model.components[\"020B_room_supply_damper\"]\n",
    "exhaust_damper = model.components[\"020B_room_exhaust_damper\"]\n",
    "\n",
    "print(\"Key components identified:\")\n",
    "print(f\"- Building space: {space.id}\")\n",
    "print(f\"- Space heater: {space_heater.id}\")\n",
    "print(f\"- Heating controller: {heating_controller.id}\")\n",
    "print(f\"- CO2 controller: {co2_controller.id}\")\n",
    "print(f\"- Space heater valve: {space_heater_valve.id}\")\n",
    "print(f\"- Supply damper: {supply_damper.id}\")\n",
    "print(f\"- Exhaust damper: {exhaust_damper.id}\")"
   ]
  },
  {
   "cell_type": "markdown",
   "metadata": {},
   "source": [
    "## 5. Define Target Parameters for Estimation\n",
    "\n",
    "We'll define the parameters we want to estimate. These include:\n",
    "- Thermal parameters (capacitances, resistances, radiation factors)\n",
    "- Mass parameters (volume, CO2 generation, infiltration)\n",
    "- Space heater parameters (thermal mass, conductance)\n",
    "- Controller parameters (PID gains)\n",
    "- Valve and damper parameters (flow rates, authority)\n",
    "\n",
    "Each parameter has initial values, lower bounds, and upper bounds."
   ]
  },
  {
   "cell_type": "code",
   "execution_count": null,
   "metadata": {},
   "outputs": [],
   "source": [
    "\n",
    "# component, attr, x0, lb, ub, [format]\n",
    "parameters = [\n",
    "    # Thermal parameters\n",
    "    (space, \"thermal.C_air\", 2e+6, 1e+6, 1e+7),                    # Thermal capacitance of indoor air [J/K]\n",
    "    (space, \"thermal.C_wall\", 2e+6, 1e+6, 1e+7),                   # Thermal capacitance of exterior wall [J/K]\n",
    "    (space, \"thermal.C_boundary\", 5e+5, 1e+4, 1e+6),               # Thermal capacitance of exterior wall [J/K]\n",
    "    (space, \"thermal.R_out\", 0.05, 0.01, 1),                       # Thermal resistance between wall and outdoor [K/W]\n",
    "    (space, \"thermal.R_in\", 0.05, 0.01, 1),                        # Thermal resistance between wall and indoor [K/W]\n",
    "    (space, \"thermal.R_boundary\", 0.01, 0.0001, 1),                # Thermal resistance between wall and indoor [K/W]\n",
    "    (space, \"thermal.f_wall\", 0.3, 0, 1),                          # Radiation factor for exterior wall\n",
    "    (space, \"thermal.f_air\", 0.1, 0, 1),                           # Radiation factor for air\n",
    "    (space, \"thermal.Q_occ_gain\", 100.0, 10, 200),                 # Heat gain per occupant [W]\n",
    "    \n",
    "    # Mass parameters\n",
    "    (space, \"mass.V\", 100, 10, 1000),                              # Volume of the space [m³]\n",
    "    (space, \"mass.G_occ\", 8.18e-6, 1e-8, 1e-4),                   # CO2 generation rate per occupant [ppm·kg/s]\n",
    "    (space, \"mass.m_inf\", 0.001, 1e-6, 0.3),                      # Infiltration rate [kg/s]\n",
    "    \n",
    "    # Space heater parameters\n",
    "    (space_heater, \"thermalMassHeatCapacity\", 10000, 1000, 50000), # Thermal mass heat capacity [J/K]\n",
    "    (space_heater, \"UA\", 30, 1, 100),                              # Thermal conductance [W/K]\n",
    "    \n",
    "    # Heating controller parameters (private - each controller gets its own values)\n",
    "    (heating_controller, \"kp\", 0.001, 1e-5, 1, \"private\"),         # Proportional gain for heating controller\n",
    "    (co2_controller, \"kp\", -0.001, -1, -1e-5, \"private\"),          # Proportional gain for CO2 controller\n",
    "    ([heating_controller, co2_controller], \"Ti\", 10, 1, 100, \"private\"),             # Integral gain for heating controller\n",
    "    ([heating_controller, co2_controller], \"Td\", 0, 0, 1, \"private\"),                # Derivative gain for controllers\n",
    "    \n",
    "    # Space heater valve parameters\n",
    "    (space_heater_valve, \"waterFlowRateMax\", 0.01, 1e-6, 0.1),     # Maximum water flow rate [m³/s]\n",
    "    (space_heater_valve, \"valveAuthority\", 0.8, 0.4, 1),           # Valve authority\n",
    "    \n",
    "    # Damper parameters (private - each damper gets its own values)\n",
    "    ([supply_damper, exhaust_damper], \"a\", 1, 1, 10, \"private\"),                     # Shape parameter for supply damper\n",
    "    ([supply_damper, exhaust_damper], \"nominalAirFlowRate\", 0.001, 1e-5, 1, \"private\"),  # Maximum air flow rate for supply damper [m³/s]\n",
    "]\n"
   ]
  },
  {
   "cell_type": "markdown",
   "metadata": {},
   "source": [
    "## 6. Configure Measuring Devices\n",
    "\n",
    "Define the sensors that will provide measurement data for calibration. These sensors measure:\n",
    "- Valve position\n",
    "- Indoor temperature\n",
    "- CO2 concentration\n",
    "- Damper position"
   ]
  },
  {
   "cell_type": "code",
   "execution_count": null,
   "metadata": {},
   "outputs": [],
   "source": [
    "percentile = 2\n",
    "measurements = [\n",
    "    (model.components[\"020B_valve_position_sensor\"], 0.05/percentile),\n",
    "    (model.components[\"020B_temperature_sensor\"], 0.1/percentile),\n",
    "    (model.components[\"020B_co2_sensor\"], 30/percentile),\n",
    "    (model.components[\"020B_damper_position_sensor\"], 0.05/percentile)\n",
    "]\n",
    "\n",
    "print(\"Measuring devices for calibration:\")\n",
    "for device, sd in measurements:\n",
    "    print(f\"- {device.id}\")"
   ]
  },
  {
   "cell_type": "markdown",
   "metadata": {},
   "source": [
    "## 7. Run Initial Simulation\n",
    "\n",
    "Before parameter estimation, let's run a simulation with the initial parameter values to see how well the model performs."
   ]
  },
  {
   "cell_type": "code",
   "execution_count": null,
   "metadata": {},
   "outputs": [],
   "source": [
    "# Run initial simulation for comparison\n",
    "simulator.simulate(\n",
    "    step_size=step_size,\n",
    "    start_time=start_time,\n",
    "    end_time=end_time\n",
    ")\n",
    "\n",
    "print(\"Initial simulation completed successfully!\")"
   ]
  },
  {
   "cell_type": "markdown",
   "metadata": {},
   "source": [
    "## 8. Plot Initial Results\n",
    "\n",
    "Let's visualize the initial simulation results to understand the model behavior before calibration."
   ]
  },
  {
   "cell_type": "code",
   "execution_count": null,
   "metadata": {},
   "outputs": [],
   "source": [
    "# Plot initial results\n",
    "fig, axes = tb.plot.plot_component(\n",
    "    simulator,\n",
    "    components_1axis=[\n",
    "        (\"020B\", \"indoorTemperature\", \"output\"),\n",
    "        (\"outdoor_environment\", \"outdoorTemperature\", \"output\"),\n",
    "        (heating_controller.id, \"setpointValue\", \"input\"),\n",
    "    ],\n",
    "    components_2axis=[\n",
    "        (\"020B_space_heater\", \"Power\", \"output\"),\n",
    "        (\"020B\", \"heatGain\", \"input\"),\n",
    "    ],\n",
    "    components_3axis=[\n",
    "        (heating_controller.id, \"inputSignal\", \"output\"),\n",
    "    ],\n",
    "    ylabel_1axis=\"Temperature [°C]\",\n",
    "    ylabel_2axis=\"Power [W]\",\n",
    "    ylabel_3axis=\"Water flow rate [m³/s]\",\n",
    "    title=\"Before calibration\",\n",
    "    show=False,\n",
    "    nticks=11\n",
    ")\n",
    "\n",
    "print(\"Initial simulation plots generated.\")"
   ]
  },
  {
   "cell_type": "markdown",
   "metadata": {},
   "source": [
    "## 9. Create and Configure Estimator\n",
    "\n",
    "Now we'll create an estimator instance and configure it for parameter estimation using automatic differentiation."
   ]
  },
  {
   "cell_type": "code",
   "execution_count": null,
   "metadata": {},
   "outputs": [],
   "source": [
    "# Create estimator\n",
    "estimator = tb.Estimator(simulator)\n",
    "\n",
    "# Configure optimization options\n",
    "# These options are passed to the \"method\" we specify when we call estimator.estimate()\n",
    "options = {} # Just use standard options\n",
    "\n",
    "print(\"Estimator created and configured.\")\n",
    "print(f\"Optimization options: {options}\")"
   ]
  },
  {
   "cell_type": "markdown",
   "metadata": {},
   "source": [
    "## 10. Run Parameter Estimation\n",
    "\n",
    "Now we'll run the parameter estimation using the scipy solver SLSQP with automatic differentiation."
   ]
  },
  {
   "cell_type": "code",
   "execution_count": null,
   "metadata": {},
   "outputs": [],
   "source": [
    "# Run parameter estimation\n",
    "# On a normal laptop cpu, this takes around 5 minutes\n",
    "estimator.estimate(\n",
    "        start_time,\n",
    "        end_time,\n",
    "        step_size,\n",
    "        parameters,\n",
    "        measurements,\n",
    "        n_warmup=20,\n",
    "        method=(\"scipy\", \"SLSQP\", \"ad\"),\n",
    "        n_cores=4,\n",
    "        options=options,\n",
    "    )\n",
    "\n"
   ]
  },
  {
   "cell_type": "markdown",
   "metadata": {},
   "source": [
    "## 11. Plot Calibrated Results\n",
    "\n",
    "Let's visualize the results after parameter calibration to see the improvement in model performance."
   ]
  },
  {
   "cell_type": "code",
   "execution_count": null,
   "metadata": {},
   "outputs": [],
   "source": [
    "# Plot results after calibration\n",
    "fig, axes = tb.plot.plot_component(\n",
    "    simulator,\n",
    "    components_1axis=[\n",
    "        (\"020B\", \"indoorTemperature\", \"output\"),\n",
    "        (heating_controller.id, \"setpointValue\", \"input\"),\n",
    "        (estimator.actual_readings[model.components[\"020B_temperature_sensor\"].id], \"Actual temperature\"),\n",
    "    ],\n",
    "    components_2axis=[\n",
    "        (\"020B_space_heater\", \"Power\", \"output\"),\n",
    "    ],\n",
    "    components_3axis=[\n",
    "        (\"020B_space_heater_valve\", \"valvePosition\", \"output\"),\n",
    "    ],\n",
    "    ylabel_1axis=\"Temperature [°C]\",\n",
    "    ylabel_2axis=\"Power [W]\",\n",
    "    ylabel_3axis=\"Valve position [0-1]\",\n",
    "    title=\"After calibration\",\n",
    "    show=False,\n",
    "    nticks=11\n",
    ")\n",
    "\n",
    "print(\"Calibrated simulation plots generated.\")"
   ]
  },
  {
   "cell_type": "markdown",
   "metadata": {},
   "source": [
    "## 12. Compare Valve Position\n",
    "\n",
    "Let's specifically compare the valve position measurements to see how well the model matches the actual data."
   ]
  },
  {
   "cell_type": "code",
   "execution_count": null,
   "metadata": {},
   "outputs": [],
   "source": [
    "# Plot valve position comparison\n",
    "fig, axes = tb.plot.plot_component(\n",
    "    simulator,\n",
    "    components_1axis=[\n",
    "        (\"020B_valve_position_sensor\", \"measuredValue\", \"input\"),\n",
    "        (estimator.actual_readings[model.components[\"020B_valve_position_sensor\"].id], \"Actual valve position\"),\n",
    "    ],\n",
    "    ylabel_1axis=\"Valve position [0-1]\",\n",
    "    title=\"Valve position comparison\",\n",
    "    show=False,\n",
    "    nticks=11\n",
    ")\n",
    "\n",
    "print(\"Valve position comparison plot generated.\")"
   ]
  },
  {
   "cell_type": "markdown",
   "metadata": {},
   "source": [
    "## 13. Compare Temperature Measurements\n",
    "\n",
    "Finally, let's compare the temperature measurements to see the improvement in model accuracy."
   ]
  },
  {
   "cell_type": "code",
   "execution_count": null,
   "metadata": {},
   "outputs": [],
   "source": [
    "# Plot temperature comparison\n",
    "fig, axes = tb.plot.plot_component(\n",
    "    simulator,\n",
    "    components_1axis=[\n",
    "        (\"020B_temperature_sensor\", \"measuredValue\", \"input\"),\n",
    "        (estimator.actual_readings[model.components[\"020B_temperature_sensor\"].id], \"Actual temperature\"),\n",
    "    ],\n",
    "    ylabel_1axis=\"Temperature [°C]\",\n",
    "    title=\"Temperature comparison\",\n",
    "    show=True,\n",
    "    nticks=11\n",
    ")\n",
    "\n",
    "print(\"Temperature comparison plot generated.\")\n",
    "print(\"\\nParameter estimation example completed successfully!\")"
   ]
  },
  {
   "cell_type": "markdown",
   "metadata": {},
   "source": [
    "## Summary\n",
    "\n",
    "In this example, we demonstrated how to:\n",
    "\n",
    "1. **Load a pre-built model** from a semantic file containing building components\n",
    "2. **Set up simulation parameters** including time period and step size\n",
    "3. **Define target parameters** for estimation with appropriate bounds\n",
    "4. **Configure measuring devices** to provide calibration data\n",
    "5. **Run parameter estimation** using automatic differentiation\n",
    "6. **Visualize results** before and after calibration\n",
    "\n",
    "The parameter estimation process helps improve the accuracy of building models by calibrating them against real measurement data. This is essential for creating reliable digital twins that can be used for building control optimization, energy analysis, and predictive maintenance.\n",
    "\n",
    "Key benefits of this approach:\n",
    "- **Automatic differentiation** provides efficient gradient computation\n",
    "- **Multiple parameter types** can be estimated simultaneously\n",
    "- **Bounded optimization** ensures physically realistic parameter values\n",
    "- **Visual comparison** helps validate the calibration results"
   ]
  }
 ],
 "metadata": {
  "kernelspec": {
   "display_name": "t4bdev",
   "language": "python",
   "name": "python3"
  },
  "language_info": {
   "codemirror_mode": {
    "name": "ipython",
    "version": 3
   },
   "file_extension": ".py",
   "mimetype": "text/x-python",
   "name": "python",
   "nbconvert_exporter": "python",
   "pygments_lexer": "ipython3",
   "version": "3.12.11"
  }
 },
 "nbformat": 4,
 "nbformat_minor": 2
}
