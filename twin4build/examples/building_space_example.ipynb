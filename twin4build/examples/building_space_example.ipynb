{
 "cells": [
  {
   "cell_type": "markdown",
   "metadata": {},
   "source": [
    "# Twin4Build: Building Space Example\n",
    "\n",
    "This notebook demonstrates how to create and simulate a detailed building space model using Twin4Build. You'll learn how to:\n",
    "1. Create a building space with thermal and CO2 parameters\n",
    "2. Set up various schedules (occupancy, temperature, solar radiation)\n",
    "3. Connect components and create a complete building model\n",
    "4. Simulate and analyze the building's thermal and CO2 performance\n",
    "\n",
    "This example is particularly useful for understanding how different factors affect building performance, including:\n",
    "- Thermal mass and insulation effects\n",
    "- Occupancy patterns and CO2 levels\n",
    "- Solar radiation impact\n",
    "- Ventilation and heating control"
   ]
  },
  {
   "cell_type": "markdown",
   "metadata": {},
   "source": [
    "## 1. Setup\n",
    "First, let's install and import the necessary packages. If you're running this in Google Colab, uncomment the pip install line."
   ]
  },
  {
   "cell_type": "code",
   "execution_count": 1,
   "metadata": {},
   "outputs": [
    {
     "name": "stdout",
     "output_type": "stream",
     "text": [
      "SETTING VERBOSE TO:  3\n"
     ]
    }
   ],
   "source": [
    "# %pip install twin4build # Uncomment in google colab\n",
    "import twin4build as tb\n",
    "import datetime\n",
    "from dateutil import tz"
   ]
  },
  {
   "cell_type": "markdown",
   "metadata": {},
   "source": [
    "## 2. Create the Model\n",
    "\n",
    "Let's create a new model instance. This will be our container for all the building components."
   ]
  },
  {
   "cell_type": "code",
   "execution_count": 2,
   "metadata": {},
   "outputs": [
    {
     "name": "stdout",
     "output_type": "stream",
     "text": [
      "SETTING VERBOSE TO:  3\n",
      "SETTING VERBOSE TO:  3\n",
      "+--------------------------------------------------------------------------------------------------------------------------------+\n",
      "|                                          Model overview    id: building_space_example                                          |\n",
      "+---------------------------------------------+----------------------------------------------------------------------------------+\n",
      "|  Number of components in simulation model:  |                                        0                                         |\n",
      "+---------------------------------------------+----------------------------------------------------------------------------------+\n",
      "| Number of connections in simulation model:  |                                        0                                         |\n",
      "+---------------------------------------------+----------------------------------------------------------------------------------+\n",
      "|              Model directory:               | C:\\Users\\jabj\\AppData\\Local\\Temp\\1\\generated_files\\models\\building_space_example |\n",
      "+---------------------------------------------+----------------------------------------------------------------------------------+\n",
      "|   Number of instances in semantic model:    |                                        0                                         |\n",
      "+---------------------------------------------+----------------------------------------------------------------------------------+\n",
      "|    Number of triples in semantic model:     |                                        0                                         |\n",
      "+---------------------------------------------+----------------------------------------------------------------------------------+\n",
      "|                                             |                                                                                  |\n",
      "|                                             |                                                                                  |\n",
      "+---------------------------------------------+----------------------------------------------------------------------------------+\n",
      "|                      id                     |                                      Class                                       |\n",
      "+---------------------------------------------+----------------------------------------------------------------------------------+\n"
     ]
    },
    {
     "name": "stderr",
     "output_type": "stream",
     "text": [
      "C:\\Users\\jabj\\Documents\\python\\Twin4Build\\twin4build\\utils\\mkdir_in_root.py:10: MainPathNotFound: Could not determine main module path, using temp dir: C:\\Users\\jabj\\AppData\\Local\\Temp\\1\n",
      "  current_dir = get_main_dir()\n"
     ]
    }
   ],
   "source": [
    "# Create a new model\n",
    "model = tb.Model(id=\"building_space_example\")\n",
    "print(model)"
   ]
  },
  {
   "cell_type": "markdown",
   "metadata": {},
   "source": [
    "## 3. Create Building Components\n",
    "\n",
    "Now we'll create the main building space component with its thermal and CO2 parameters. This component models:\n",
    "- Thermal mass of air, walls, and interior elements\n",
    "- Heat transfer through walls and boundaries\n",
    "- CO2 generation from occupants\n",
    "- Air infiltration and ventilation"
   ]
  },
  {
   "cell_type": "code",
   "execution_count": 3,
   "metadata": {},
   "outputs": [
    {
     "name": "stdout",
     "output_type": "stream",
     "text": [
      "Building space component created:\n",
      "+---------------------------------------------+\n",
      "|   Component overview    id: BuildingSpace   |\n",
      "+-------------------------+-------------------+\n",
      "|          input          |       output      |\n",
      "+-------------------------+-------------------+\n",
      "|    outdoorTemperature   | indoorTemperature |\n",
      "|    supplyAirFlowRate    |  wallTemperature  |\n",
      "|    exhaustAirFlowRate   |     indoorCO2     |\n",
      "|   supplyAirTemperature  |                   |\n",
      "|    globalIrradiation    |                   |\n",
      "|      numberOfPeople     |                   |\n",
      "|         heatGain        |                   |\n",
      "|   boundaryTemperature   |                   |\n",
      "| adjacentZoneTemperature |                   |\n",
      "|        outdoorCO2       |                   |\n",
      "+-------------------------+-------------------+\n"
     ]
    }
   ],
   "source": [
    "# Create a building space with thermal parameters\n",
    "# Define parameters for the thermal and mass models\n",
    "thermal_kwargs = dict(\n",
    "    C_air=5000000.0,\n",
    "    C_wall=10000000.0,\n",
    "    C_int=500000.0,\n",
    "    C_boundary=800000.0,\n",
    "    R_out=0.01,\n",
    "    R_in=0.01,\n",
    "    R_int=100000,\n",
    "    R_boundary=10000,\n",
    "    f_wall=0,\n",
    "    f_air=0,\n",
    "    Q_occ_gain=100.0,\n",
    "    infiltration=0.0,\n",
    "    airVolume=100.0,\n",
    "    id=\"BuildingSpaceThermal\"\n",
    ")\n",
    "mass_kwargs = dict(\n",
    "    V=120.0,  # Example: 100 m^3 * 1.2 kg/m^3\n",
    "    G_occ=5e-6,\n",
    "    m_inf=0.01/3600,\n",
    "    id=\"BuildingSpaceMass\"\n",
    ")\n",
    "building_space = tb.BuildingSpaceTorchSystem(\n",
    "    thermal_kwargs=thermal_kwargs,\n",
    "    mass_kwargs=mass_kwargs,\n",
    "    id=\"BuildingSpace\"\n",
    ")\n",
    "print(\"Building space component created:\")\n",
    "print(building_space)"
   ]
  },
  {
   "cell_type": "markdown",
   "metadata": {},
   "source": [
    "## 4. Create Schedules\n",
    "\n",
    "Now we'll create various schedules to control different aspects of the building:\n",
    "1. Occupancy schedule - simulates people entering and leaving\n",
    "2. Outdoor temperature schedule - simulates weather conditions\n",
    "3. Solar radiation schedule - simulates solar heat gains\n",
    "4. Air flow schedule - controls ventilation\n",
    "5. Supply air temperature schedule - controls heating/cooling\n",
    "6. Outdoor CO2 schedule - simulates outdoor air quality\n",
    "7. Space heater schedule - controls heating system\n",
    "8. Boundary temperature schedule - simulates adjacent spaces"
   ]
  },
  {
   "cell_type": "code",
   "execution_count": 4,
   "metadata": {},
   "outputs": [],
   "source": [
    "# Create a schedule for occupancy\n",
    "occupancy_schedule = tb.ScheduleSystem(\n",
    "    weekDayRulesetDict={\n",
    "        \"ruleset_default_value\": 0,\n",
    "        \"ruleset_start_minute\": [0, 0, 0, 0, 0, 0, 0],\n",
    "        \"ruleset_end_minute\": [0, 0, 0, 0, 0, 0, 0],\n",
    "        \"ruleset_start_hour\": [8, 9, 10, 12, 14, 16, 18],\n",
    "        \"ruleset_end_hour\": [9, 10, 12, 14, 16, 18, 20],\n",
    "        \"ruleset_value\": [0, 0, 0, 0, 0, 0, 0]  # Number of occupants\n",
    "    },\n",
    "    id=\"OccupancySchedule\"\n",
    ")\n",
    "\n",
    "# Create an outdoor temperature profile\n",
    "outdoor_temp = tb.ScheduleSystem(\n",
    "    weekDayRulesetDict={\n",
    "        \"ruleset_default_value\": 10.0,\n",
    "        \"ruleset_start_minute\": [0, 0, 0, 0, 0, 0, 0],\n",
    "        \"ruleset_end_minute\": [0, 0, 0, 0, 0, 0, 0],\n",
    "        \"ruleset_start_hour\": [0, 6, 12, 18, 21, 23, 24],\n",
    "        \"ruleset_end_hour\": [6, 12, 18, 21, 23, 24, 24],\n",
    "        \"ruleset_value\": [5.0, 8.0, 15.0, 12.0, 8.0, 5.0, 5.0]  # Temperature in °C\n",
    "    },\n",
    "    id=\"OutdoorTemperature\"\n",
    ")\n",
    "\n",
    "# Create a solar radiation profile\n",
    "solar_radiation = tb.ScheduleSystem(\n",
    "    weekDayRulesetDict={\n",
    "        \"ruleset_default_value\": 0.0,\n",
    "        \"ruleset_start_minute\": [0, 0, 0, 0, 0, 0, 0],\n",
    "        \"ruleset_end_minute\": [0, 0, 0, 0, 0, 0, 0],\n",
    "        \"ruleset_start_hour\": [0, 6, 9, 12, 15, 18, 24],\n",
    "        \"ruleset_end_hour\": [6, 9, 12, 15, 18, 24, 24],\n",
    "        \"ruleset_value\": [0.0, 100, 300, 300, 100, 0.0, 0.0]  # Solar radiation in W/m²\n",
    "    },\n",
    "    id=\"SolarRadiation\"\n",
    ")\n",
    "\n",
    "# Create an air flow rate schedule\n",
    "air_flow = tb.ScheduleSystem(\n",
    "    weekDayRulesetDict={\n",
    "        \"ruleset_default_value\": 0.0,\n",
    "        \"ruleset_start_minute\": [0, 0, 0, 0, 0, 0, 0],\n",
    "        \"ruleset_end_minute\": [0, 0, 0, 0, 0, 0, 0],\n",
    "        \"ruleset_start_hour\": [0, 8, 16, 0, 0, 0, 0],\n",
    "        \"ruleset_end_hour\": [8, 16, 24, 0, 0, 0, 0],\n",
    "        \"ruleset_value\": [0, 0, 0, 0.0, 0.0, 0.0, 0.0]  # Air flow rate in m³/s\n",
    "    },\n",
    "    id=\"AirFlow\"\n",
    ")\n",
    "\n",
    "# Create a supply air temperature schedule\n",
    "supply_air_temp = tb.ScheduleSystem(\n",
    "    weekDayRulesetDict={\n",
    "        \"ruleset_default_value\": 20.0,\n",
    "        \"ruleset_start_minute\": [0, 0, 0, 0, 0, 0, 0],\n",
    "        \"ruleset_end_minute\": [0, 0, 0, 0, 0, 0, 0],\n",
    "        \"ruleset_start_hour\": [0, 8, 16, 0, 0, 0, 0],\n",
    "        \"ruleset_end_hour\": [8, 16, 24, 0, 0, 0, 0],\n",
    "        \"ruleset_value\": [0, 0, 0, 0.0, 0.0, 0.0, 0.0]  # Temperature in °C\n",
    "    },\n",
    "    id=\"SupplyAirTemperature\"\n",
    ")\n",
    "\n",
    "# Create an outdoor CO2 concentration schedule\n",
    "outdoor_co2 = tb.ScheduleSystem(\n",
    "    weekDayRulesetDict={\n",
    "        \"ruleset_default_value\": 400.0,\n",
    "        \"ruleset_start_minute\": [0, 0, 0, 0, 0, 0, 0],\n",
    "        \"ruleset_end_minute\": [0, 0, 0, 0, 0, 0, 0],\n",
    "        \"ruleset_start_hour\": [0, 8, 16, 0, 0, 0, 0],\n",
    "        \"ruleset_end_hour\": [8, 16, 24, 0, 0, 0, 0],\n",
    "        \"ruleset_value\": [0, 0, 0, 0.0, 0.0, 0.0, 0.0]  # CO2 concentration in ppm\n",
    "    },\n",
    "    id=\"OutdoorCO2\"\n",
    ")\n",
    "\n",
    "# Create a space heater schedule\n",
    "space_heater = tb.ScheduleSystem(\n",
    "    weekDayRulesetDict={\n",
    "        \"ruleset_default_value\": 0.0,\n",
    "        \"ruleset_start_minute\": [0, 0, 0, 0, 0, 0, 0],\n",
    "        \"ruleset_end_minute\": [0, 0, 0, 0, 0, 0, 0],\n",
    "        \"ruleset_start_hour\": [0, 6, 8, 16, 18, 0, 0],\n",
    "        \"ruleset_end_hour\": [6, 8, 16, 18, 24, 0, 0],\n",
    "        \"ruleset_value\": [0, 300, 500, 0, 0.0, 0.0, 0.0]  # Heat input in W\n",
    "    },\n",
    "    id=\"SpaceHeater\"\n",
    ")\n",
    "\n",
    "# Create a boundary temperature schedule\n",
    "boundary_temp = tb.ScheduleSystem(\n",
    "    weekDayRulesetDict={\n",
    "        \"ruleset_default_value\": 20.0,\n",
    "        \"ruleset_start_minute\": [0, 0, 0, 0, 0, 0, 0],\n",
    "        \"ruleset_end_minute\": [0, 0, 0, 0, 0, 0, 0],\n",
    "        \"ruleset_start_hour\": [0, 8, 16, 0, 0, 0, 0],\n",
    "        \"ruleset_end_hour\": [8, 16, 24, 0, 0, 0, 0],\n",
    "        \"ruleset_value\": [20, 20, 20, 20, 20, 20, 20]  # Temperature in °C\n",
    "    },\n",
    "    id=\"BoundaryTemperature\"\n",
    ")"
   ]
  },
  {
   "cell_type": "markdown",
   "metadata": {},
   "source": [
    "## 5. Connect Components\n",
    "\n",
    "Now we'll connect all the components to create our complete building model. Each connection represents a physical or logical relationship between components."
   ]
  },
  {
   "cell_type": "markdown",
   "metadata": {},
   "source": []
  },
  {
   "cell_type": "code",
   "execution_count": 5,
   "metadata": {},
   "outputs": [
    {
     "name": "stdout",
     "output_type": "stream",
     "text": [
      "All components connected successfully!\n"
     ]
    }
   ],
   "source": [
    "# Connect components\n",
    "model.add_connection(occupancy_schedule, building_space, \"scheduleValue\", \"numberOfPeople\")\n",
    "model.add_connection(outdoor_temp, building_space, \"scheduleValue\", \"outdoorTemperature\")\n",
    "model.add_connection(solar_radiation, building_space, \"scheduleValue\", \"globalIrradiation\")\n",
    "model.add_connection(air_flow, building_space, \"scheduleValue\", \"supplyAirFlowRate\")\n",
    "model.add_connection(air_flow, building_space, \"scheduleValue\", \"exhaustAirFlowRate\")\n",
    "model.add_connection(supply_air_temp, building_space, \"scheduleValue\", \"supplyAirTemperature\")\n",
    "model.add_connection(outdoor_co2, building_space, \"scheduleValue\", \"outdoorCO2\")\n",
    "model.add_connection(space_heater, building_space, \"scheduleValue\", \"heatGain\")\n",
    "model.add_connection(boundary_temp, building_space, \"scheduleValue\", \"boundaryTemperature\")\n",
    "\n",
    "print(\"All components connected successfully!\")"
   ]
  },
  {
   "cell_type": "markdown",
   "metadata": {},
   "source": [
    "## 6. Load and Simulate the Model\n",
    "\n",
    "Now we'll load the model and run a simulation for a 4-day period. We'll use 10-minute time steps for good accuracy."
   ]
  },
  {
   "cell_type": "code",
   "execution_count": 6,
   "metadata": {},
   "outputs": [
    {
     "name": "stdout",
     "output_type": "stream",
     "text": [
      "Loading model...[OK]\n",
      "|\n",
      "|\n",
      "|______Loading simulation model...[OK]\n",
      "|      |\n",
      "|      |\n",
      "|      |______Prepare for topological sorting...[OK]\n",
      "|      |______Determining execution order...[OK]\n",
      "|      |______Loading parameters...[OK]\n",
      "|      |______Validating model...[OK]\n",
      "|\n",
      "|______Drawing simulation model...[OK]\n",
      "\n",
      "Model loaded successfully!\n"
     ]
    },
    {
     "ename": "TypeError",
     "evalue": "BuildingSpaceTorchSystem.initialize() missing 1 required positional argument: 'simulator'",
     "output_type": "error",
     "traceback": [
      "\u001b[31m---------------------------------------------------------------------------\u001b[39m",
      "\u001b[31mTypeError\u001b[39m                                 Traceback (most recent call last)",
      "\u001b[36mCell\u001b[39m\u001b[36m \u001b[39m\u001b[32mIn[6]\u001b[39m\u001b[32m, line 18\u001b[39m\n\u001b[32m     12\u001b[39m end_time = datetime.datetime(\n\u001b[32m     13\u001b[39m     year=\u001b[32m2024\u001b[39m, month=\u001b[32m1\u001b[39m, day=\u001b[32m5\u001b[39m, hour=\u001b[32m0\u001b[39m, minute=\u001b[32m0\u001b[39m, second=\u001b[32m0\u001b[39m,\n\u001b[32m     14\u001b[39m     tzinfo=tz.gettz(\u001b[33m\"\u001b[39m\u001b[33mEurope/Copenhagen\u001b[39m\u001b[33m\"\u001b[39m)\n\u001b[32m     15\u001b[39m )\n\u001b[32m     17\u001b[39m \u001b[38;5;66;03m# Run simulation\u001b[39;00m\n\u001b[32m---> \u001b[39m\u001b[32m18\u001b[39m \u001b[43msimulator\u001b[49m\u001b[43m.\u001b[49m\u001b[43msimulate\u001b[49m\u001b[43m(\u001b[49m\u001b[43mstep_size\u001b[49m\u001b[43m=\u001b[49m\u001b[43mstep_size\u001b[49m\u001b[43m,\u001b[49m\n\u001b[32m     19\u001b[39m \u001b[43m    \u001b[49m\u001b[43mstart_time\u001b[49m\u001b[43m=\u001b[49m\u001b[43mstart_time\u001b[49m\u001b[43m,\u001b[49m\n\u001b[32m     20\u001b[39m \u001b[43m    \u001b[49m\u001b[43mend_time\u001b[49m\u001b[43m=\u001b[49m\u001b[43mend_time\u001b[49m\n\u001b[32m     21\u001b[39m \u001b[43m)\u001b[49m\n\u001b[32m     22\u001b[39m \u001b[38;5;28mprint\u001b[39m(\u001b[33m\"\u001b[39m\u001b[33mSimulation completed successfully!\u001b[39m\u001b[33m\"\u001b[39m)\n",
      "\u001b[36mFile \u001b[39m\u001b[32m~\\Documents\\python\\Twin4Build\\twin4build\\simulator\\simulator.py:349\u001b[39m, in \u001b[36mSimulator.simulate\u001b[39m\u001b[34m(self, start_time, end_time, step_size, show_progress_bar, debug, **kwargs)\u001b[39m\n\u001b[32m    347\u001b[39m \u001b[38;5;28mself\u001b[39m.date_time_steps = date_time_steps\n\u001b[32m    348\u001b[39m \u001b[38;5;28mself\u001b[39m.n_timesteps = n_timesteps\n\u001b[32m--> \u001b[39m\u001b[32m349\u001b[39m \u001b[38;5;28;43mself\u001b[39;49m\u001b[43m.\u001b[49m\u001b[43mmodel\u001b[49m\u001b[43m.\u001b[49m\u001b[43minitialize\u001b[49m\u001b[43m(\u001b[49m\u001b[43mstart_time\u001b[49m\u001b[43m,\u001b[49m\u001b[43m \u001b[49m\u001b[43mend_time\u001b[49m\u001b[43m,\u001b[49m\u001b[43m \u001b[49m\u001b[43mstep_size\u001b[49m\u001b[43m,\u001b[49m\u001b[43m \u001b[49m\u001b[38;5;28;43mself\u001b[39;49m\u001b[43m)\u001b[49m\n\u001b[32m    350\u001b[39m \u001b[38;5;28;01mif\u001b[39;00m show_progress_bar:\n\u001b[32m    351\u001b[39m     \u001b[38;5;28;01mfor\u001b[39;00m step_index \u001b[38;5;129;01min\u001b[39;00m tqdm(\n\u001b[32m    352\u001b[39m         \u001b[38;5;28mrange\u001b[39m(n_timesteps),\n\u001b[32m    353\u001b[39m         total=n_timesteps,\n\u001b[32m    354\u001b[39m     ):\n",
      "\u001b[36mFile \u001b[39m\u001b[32m~\\Documents\\python\\Twin4Build\\twin4build\\model\\model.py:485\u001b[39m, in \u001b[36mModel.initialize\u001b[39m\u001b[34m(self, start_time, end_time, step_size, simulator)\u001b[39m\n\u001b[32m    469\u001b[39m \u001b[38;5;28;01mdef\u001b[39;00m\u001b[38;5;250m \u001b[39m\u001b[34minitialize\u001b[39m(\n\u001b[32m    470\u001b[39m     \u001b[38;5;28mself\u001b[39m,\n\u001b[32m    471\u001b[39m     start_time: datetime.datetime,\n\u001b[32m   (...)\u001b[39m\u001b[32m    474\u001b[39m     simulator: \u001b[33m\"\u001b[39m\u001b[33mcore.Simulator\u001b[39m\u001b[33m\"\u001b[39m,\n\u001b[32m    475\u001b[39m ) -> \u001b[38;5;28;01mNone\u001b[39;00m:\n\u001b[32m    476\u001b[39m \u001b[38;5;250m    \u001b[39m\u001b[33;03m\"\"\"\u001b[39;00m\n\u001b[32m    477\u001b[39m \u001b[33;03m    Initialize the model for simulation.\u001b[39;00m\n\u001b[32m    478\u001b[39m \n\u001b[32m   (...)\u001b[39m\u001b[32m    483\u001b[39m \u001b[33;03m        simulator (core.Simulator): Simulator instance.\u001b[39;00m\n\u001b[32m    484\u001b[39m \u001b[33;03m    \"\"\"\u001b[39;00m\n\u001b[32m--> \u001b[39m\u001b[32m485\u001b[39m     \u001b[38;5;28;43mself\u001b[39;49m\u001b[43m.\u001b[49m\u001b[43msimulation_model\u001b[49m\u001b[43m.\u001b[49m\u001b[43minitialize\u001b[49m\u001b[43m(\u001b[49m\u001b[43mstart_time\u001b[49m\u001b[43m,\u001b[49m\u001b[43m \u001b[49m\u001b[43mend_time\u001b[49m\u001b[43m,\u001b[49m\u001b[43m \u001b[49m\u001b[43mstep_size\u001b[49m\u001b[43m,\u001b[49m\u001b[43m \u001b[49m\u001b[43msimulator\u001b[49m\u001b[43m)\u001b[49m\n",
      "\u001b[36mFile \u001b[39m\u001b[32m~\\Documents\\python\\Twin4Build\\twin4build\\model\\simulation_model\\simulation_model.py:1237\u001b[39m, in \u001b[36mSimulationModel.initialize\u001b[39m\u001b[34m(self, start_time, end_time, step_size, simulator)\u001b[39m\n\u001b[32m   1234\u001b[39m         \u001b[38;5;28;01mfor\u001b[39;00m index, connection \u001b[38;5;129;01min\u001b[39;00m \u001b[38;5;28mzip\u001b[39m(hash_array, connection_point.connects_system_through):\n\u001b[32m   1235\u001b[39m             connection_point.set_input_port_index(connection, index)\n\u001b[32m-> \u001b[39m\u001b[32m1237\u001b[39m \u001b[43mcomponent\u001b[49m\u001b[43m.\u001b[49m\u001b[43minitialize\u001b[49m\u001b[43m(\u001b[49m\n\u001b[32m   1238\u001b[39m \u001b[43m    \u001b[49m\u001b[43mstart_time\u001b[49m\u001b[43m=\u001b[49m\u001b[43mstart_time\u001b[49m\u001b[43m,\u001b[49m\n\u001b[32m   1239\u001b[39m \u001b[43m    \u001b[49m\u001b[43mend_time\u001b[49m\u001b[43m=\u001b[49m\u001b[43mend_time\u001b[49m\u001b[43m,\u001b[49m\n\u001b[32m   1240\u001b[39m \u001b[43m    \u001b[49m\u001b[43mstep_size\u001b[49m\u001b[43m=\u001b[49m\u001b[43mstep_size\u001b[49m\u001b[43m,\u001b[49m\n\u001b[32m   1241\u001b[39m \u001b[43m\u001b[49m\u001b[43m)\u001b[49m\n",
      "\u001b[31mTypeError\u001b[39m: BuildingSpaceTorchSystem.initialize() missing 1 required positional argument: 'simulator'"
     ]
    }
   ],
   "source": [
    "# Load the model\n",
    "model.load()\n",
    "print(\"Model loaded successfully!\")\n",
    "\n",
    "# Set up simulation parameters\n",
    "simulator = tb.Simulator(model)\n",
    "step_size = 600  # 10 minutes in seconds\n",
    "start_time = datetime.datetime(\n",
    "    year=2024, month=1, day=1, hour=0, minute=0, second=0,\n",
    "    tzinfo=tz.gettz(\"Europe/Copenhagen\")\n",
    ")\n",
    "end_time = datetime.datetime(\n",
    "    year=2024, month=1, day=5, hour=0, minute=0, second=0,\n",
    "    tzinfo=tz.gettz(\"Europe/Copenhagen\")\n",
    ")\n",
    "\n",
    "# Run simulation\n",
    "simulator.simulate(step_size=step_size,\n",
    "    start_time=start_time,\n",
    "    end_time=end_time\n",
    ")\n",
    "print(\"Simulation completed successfully!\")"
   ]
  },
  {
   "cell_type": "markdown",
   "metadata": {},
   "source": [
    "## 7. Visualize Results\n",
    "\n",
    "Let's create plots to visualize the simulation results. We'll show:\n",
    "1. Indoor and wall temperatures\n",
    "2. Heating power and solar radiation\n",
    "3. Outdoor temperature"
   ]
  },
  {
   "cell_type": "code",
   "execution_count": null,
   "metadata": {},
   "outputs": [],
   "source": [
    "# Plot results using Twin4Build's plotting utility\n",
    "tb.plot.plot_component(\n",
    "    simulator,\n",
    "    components_1axis=[\n",
    "        (\"BuildingSpace\", \"indoorTemperature\", \"output\"),\n",
    "        (\"BuildingSpace\", \"wallTemperature\", \"output\"),\n",
    "    ],\n",
    "    components_2axis=[\n",
    "        (\"BuildingSpace\", \"heatGain\", \"input\")\n",
    "    ],\n",
    "    components_3axis=[\n",
    "        (\"BuildingSpace\", \"outdoorTemperature\", \"input\"),\n",
    "    ],\n",
    "    ylabel_1axis=\"Temperature [°C]\",\n",
    "    ylabel_2axis=\"Heating Power [W]\",\n",
    "    ylabel_3axis=\"Temperature [°C]\",\n",
    "    show=True,\n",
    "    nticks=11\n",
    ")"
   ]
  },
  {
   "cell_type": "markdown",
   "metadata": {},
   "source": [
    "## 8. Conclusion and Next Steps\n",
    "\n",
    "In this example, we've created a detailed building space model that simulates:\n",
    "1. Thermal dynamics of the space and its walls\n",
    "2. CO2 concentration based on occupancy\n",
    "3. Solar radiation effects\n",
    "4. Heating system performance\n",
    "\n",
    "### Key Parameters to Experiment With:\n",
    "- Thermal mass values (C_air, C_wall, etc.)\n",
    "- Thermal resistance values (R_out, R_in, etc.)\n",
    "- Occupancy patterns\n",
    "- Heating schedules\n",
    "- Ventilation rates\n",
    "\n",
    "### Troubleshooting Tips:\n",
    "1. If temperatures are too high/low:\n",
    "   - Check heating schedule values\n",
    "   - Verify thermal resistance values\n",
    "   - Adjust solar radiation impact\n",
    "\n",
    "2. If simulation fails to converge:\n",
    "   - Try reducing the step size\n",
    "   - Check for unrealistic parameter values\n",
    "   - Verify all connections are correct\n",
    "\n",
    "3. If results look unrealistic:\n",
    "   - Validate all schedule values\n",
    "   - Check unit conversions\n",
    "   - Verify thermal mass and resistance values\n",
    "\n",
    "### Next Steps:\n",
    "1. Add more complex control strategies\n",
    "2. Model multiple zones\n",
    "3. Add weather data integration\n",
    "4. Implement energy optimization\n",
    "5. Add more detailed HVAC components"
   ]
  }
 ],
 "metadata": {
  "kernelspec": {
   "display_name": "t4bdev",
   "language": "python",
   "name": "python3"
  },
  "language_info": {
   "codemirror_mode": {
    "name": "ipython",
    "version": 3
   },
   "file_extension": ".py",
   "mimetype": "text/x-python",
   "name": "python",
   "nbconvert_exporter": "python",
   "pygments_lexer": "ipython3",
   "version": "3.12.11"
  }
 },
 "nbformat": 4,
 "nbformat_minor": 2
}
