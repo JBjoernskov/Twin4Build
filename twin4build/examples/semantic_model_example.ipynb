{
 "cells": [
  {
   "cell_type": "markdown",
   "metadata": {},
   "source": [
    "# Twin4Build: Basic Usage Example\n",
    "\n",
    "Welcome to this tutorial on using the Twin4Build package! In this notebook, you'll learn how to:\n",
    "1. Create a simple model with a schedule and a damper\n",
    "2. Connect components in the model\n",
    "3. Simulate the model\n",
    "4. Visualize the results\n",
    "\n",
    "Let's get started!"
   ]
  },
  {
   "cell_type": "markdown",
   "metadata": {},
   "source": [
    "## 1. Setup\n",
    "First, let's install and import the necessary packages:"
   ]
  },
  {
   "cell_type": "code",
   "execution_count": null,
   "metadata": {},
   "outputs": [],
   "source": [
    "# %pip install git+https://github.com/JBjoernskov/Twin4Build.git # Uncomment in google colab\n",
    "import sys\n",
    "sys.path.append(r\"C:\\Users\\jabj\\Documents\\python\\Twin4Build\")\n",
    "import twin4build as tb\n",
    "# import datetime\n",
    "# from dateutil import tz\n",
    "# import twin4build.utils.plot.plot as plot"
   ]
  },
  {
   "cell_type": "markdown",
   "metadata": {},
   "source": [
    "## Creating the Model\n",
    "\n",
    "Now that we have our packages installed and imported, let's create a simple model."
   ]
  },
  {
   "cell_type": "code",
   "execution_count": null,
   "metadata": {},
   "outputs": [],
   "source": [
    "    \n",
    "turtle_file = r\"C:\\Users\\jabj\\OneDrive - Syddansk Universitet\\excel\\one_room_example_model.xlsm\"\n",
    "namespaces = [\"https://alikucukavci.github.io/FSO/fso.ttl\"]\n",
    "sem_model = tb.SemanticModel(turtle_file, additional_namespaces=namespaces)\n",
    "sem_model.reason(namespaces) # Adds any missing triples\n",
    "\n",
    "# Define a query to filter the graph before visualizing it.\n",
    "# Here, we remove all triples with predicates: rdf:type, \n",
    "# s4syst:subSystemOf, s4syst:hasSubSystem.\n",
    "query = \"\"\"\n",
    "CONSTRUCT {\n",
    "    ?s ?p ?o\n",
    "}\n",
    "WHERE {\n",
    "    ?s ?p ?o .\n",
    "    FILTER (?p != rdf:type && \n",
    "    ?p != s4syst:subSystemOf && \n",
    "    ?p != s4syst:hasSubSystem)\n",
    "}\n",
    "\"\"\"\n",
    "sem_model.visualize(query=query) # Visualize the semantic model"
   ]
  },
  {
   "cell_type": "code",
   "execution_count": null,
   "metadata": {},
   "outputs": [],
   "source": [
    "translator = tb.Translator()\n",
    "translator.translate(sem_model)"
   ]
  }
 ],
 "metadata": {
  "kernelspec": {
   "display_name": "Python 3",
   "language": "python",
   "name": "python3"
  },
  "language_info": {
   "codemirror_mode": {
    "name": "ipython",
    "version": 3
   },
   "file_extension": ".py",
   "mimetype": "text/x-python",
   "name": "python",
   "nbconvert_exporter": "python",
   "pygments_lexer": "ipython3",
   "version": "3.10.14"
  }
 },
 "nbformat": 4,
 "nbformat_minor": 4
}
