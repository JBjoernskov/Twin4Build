{
 "cells": [
  {
   "cell_type": "markdown",
   "metadata": {},
   "source": [
    "# Twin4Build: CO2 Controller Example\n",
    "\n",
    "This notebook demonstrates how to use the Twin4Build package to create and simulate a CO2 controller model for a building space. We'll go through the process step-by-step, explaining each part along the way."
   ]
  },
  {
   "cell_type": "markdown",
   "metadata": {},
   "source": [
    "## 1. Import Required Libraries\n",
    "\n",
    "First, we import the necessary libraries and modules."
   ]
  },
  {
   "cell_type": "code",
   "execution_count": null,
   "metadata": {},
   "outputs": [],
   "source": [
    "%pip install git+https://github.com/JBjoernskov/Twin4Build.git # Uncomment in google colab\n",
    "import datetime\n",
    "import sys\n",
    "sys.path.append(r\"C:\\Users\\jabj\\Documents\\python\\Twin4Build\")\n",
    "from dateutil import tz\n",
    "import twin4build as tb\n"
   ]
  },
  {
   "cell_type": "markdown",
   "metadata": {},
   "source": [
    "## 2. Define Model Components and Connections\n",
    "\n",
    "Now we define the components of our CO2 controller model and their connections.<br>\n",
    "For convenience, we can pack all these definitions into the \"fcn\" function, which will be used to create the model."
   ]
  },
  {
   "cell_type": "code",
   "execution_count": 2,
   "metadata": {},
   "outputs": [],
   "source": [
    "def fcn(self):\n",
    "    ##############################################################\n",
    "    ################## First, define components ##################\n",
    "    ##############################################################\n",
    "    occupancy_schedule = tb.ScheduleSystem(\n",
    "        weekDayRulesetDict={\n",
    "            \"ruleset_default_value\": 0,\n",
    "            \"ruleset_start_minute\": [0, 0, 0, 0, 0, 0, 0],\n",
    "            \"ruleset_end_minute\": [0, 0, 0, 0, 0, 0, 0],\n",
    "            \"ruleset_start_hour\": [6, 7, 8, 12, 14, 16, 18],\n",
    "            \"ruleset_end_hour\": [7, 8, 12, 14, 16, 18, 22],\n",
    "            \"ruleset_value\": [3, 5, 20, 25, 27, 7, 3]},\n",
    "        add_noise=True,\n",
    "        id=\"Occupancy schedule\")\n",
    "    \n",
    "    co2_setpoint_schedule = tb.ScheduleSystem(\n",
    "        weekDayRulesetDict={\n",
    "            \"ruleset_default_value\": 900,\n",
    "            \"ruleset_start_minute\": [],\n",
    "            \"ruleset_end_minute\": [],\n",
    "            \"ruleset_start_hour\": [],\n",
    "            \"ruleset_end_hour\": [],\n",
    "            \"ruleset_value\": []},\n",
    "        id=\"CO2 setpoint schedule\")\n",
    "\n",
    "    co2_controller = tb.PIControllerFMUSystem(\n",
    "        kp=0.001,\n",
    "        Ti=3,\n",
    "        isReverse=False,\n",
    "        id=\"CO2 controller\")\n",
    "\n",
    "    supply_damper = tb.DamperSystem(\n",
    "        nominalAirFlowRate=1.6,\n",
    "        a=5,\n",
    "        id=\"Supply damper\")\n",
    "\n",
    "    return_damper = tb.DamperSystem(\n",
    "        nominalAirFlowRate=1.6,\n",
    "        a=5,\n",
    "        id=\"Return damper\")\n",
    "\n",
    "    space = tb.BuildingSpaceStateSpace(\n",
    "        # Space parameters\n",
    "        airVolume=466.54,        # Room volume [m³]\n",
    "        infiltration=0.005,      # Air infiltration rate [m³/s]\n",
    "        CO2_occ_gain=0.004,      # CO2 generation per person [kg/s]\n",
    "        CO2_start=400.0,         # Initial CO2 concentration [ppm]\n",
    "        \n",
    "        # Required thermal parameters (even if not used for CO2 control)\n",
    "        C_air=1000000.0,         # Thermal capacitance of indoor air [J/K]\n",
    "        C_wall=3000000.0,        # Thermal capacitance of exterior wall [J/K]\n",
    "        C_int=500000.0,          # Thermal capacitance of interior wall [J/K]\n",
    "        C_boundary=800000.0,     # Thermal capacitance of boundary wall [J/K]\n",
    "        R_out=0.03,              # Thermal resistance between wall and outdoor [K/W]\n",
    "        R_in=0.01,               # Thermal resistance between wall and indoor [K/W]\n",
    "        R_int=100000,            # Thermal resistance between interior wall and indoor [K/W]\n",
    "        R_boundary=10000,        # Thermal resistance of boundary [K/W]\n",
    "        id=\"Space\"\n",
    "    )\n",
    "\n",
    "    #################################################################\n",
    "    ################## Add connections to the model #################\n",
    "    #################################################################\n",
    "    self.add_connection(co2_controller, supply_damper,\n",
    "                         \"inputSignal\", \"damperPosition\")\n",
    "    self.add_connection(co2_controller, return_damper,\n",
    "                         \"inputSignal\", \"damperPosition\")\n",
    "    self.add_connection(supply_damper, space,\n",
    "                         \"airFlowRate\", \"supplyAirFlowRate\")\n",
    "    self.add_connection(return_damper, space,\n",
    "                         \"airFlowRate\", \"returnAirFlowRate\")\n",
    "    self.add_connection(occupancy_schedule, space,\n",
    "                         \"scheduleValue\", \"numberOfPeople\")\n",
    "    self.add_connection(space, co2_controller,\n",
    "                         \"indoorCo2Concentration\", \"actualValue\")\n",
    "    self.add_connection(co2_setpoint_schedule, co2_controller,\n",
    "                         \"scheduleValue\", \"setpointValue\")"
   ]
  },
  {
   "cell_type": "markdown",
   "metadata": {},
   "source": [
    "## 3. Create and Load the Model\n",
    "\n",
    "Now we create a model instance and load it with the components and connections we defined.<br>\n",
    "You can compare the shown graph and model structure with the one we defined in \"fcn\" function as part of the previous step."
   ]
  },
  {
   "cell_type": "code",
   "execution_count": null,
   "metadata": {},
   "outputs": [],
   "source": [
    "model = tb.Model(id=\"co2_control\")\n",
    "model.load(fcn=fcn)\n",
    "# system_graph = os.path.join(model.graph_path, \"system_graph.png\")\n",
    "# image = plt.imread(system_graph)\n",
    "# plt.figure(figsize=(12,12))\n",
    "# plt.imshow(image)\n",
    "# plt.axis('off')\n",
    "# plt.show()"
   ]
  },
  {
   "cell_type": "markdown",
   "metadata": {},
   "source": [
    "## 4. Set Up Simulation Parameters and Run Simulation\n",
    "\n",
    "We set up the simulation parameters and run the simulation for our CO2 controller model."
   ]
  },
  {
   "cell_type": "code",
   "execution_count": null,
   "metadata": {},
   "outputs": [],
   "source": [
    "simulator = tb.Simulator()\n",
    "stepSize = 600 #Seconds\n",
    "startTime = datetime.datetime(year=2024, month=1, day=10, hour=0, minute=0, second=0, tzinfo=tz.gettz(\"Europe/Copenhagen\"))\n",
    "endTime = datetime.datetime(year=2024, month=1, day=12, hour=0, minute=0, second=0, tzinfo=tz.gettz(\"Europe/Copenhagen\"))\n",
    "\n",
    "# Simulate the model\n",
    "simulator.simulate(model,\n",
    "                    stepSize=stepSize,\n",
    "                    startTime = startTime,\n",
    "                    endTime = endTime)"
   ]
  },
  {
   "cell_type": "markdown",
   "metadata": {},
   "source": [
    "## 5. Visualize Results\n",
    "\n",
    "We use the built-in plotting functions to visualize the simulation results."
   ]
  },
  {
   "cell_type": "code",
   "execution_count": null,
   "metadata": {},
   "outputs": [],
   "source": [
    "plot.plot_component(simulator, \n",
    "                    components_1axis=[(\"Supply damper\", \"airFlowRate\")], \n",
    "                    components_2axis=[(\"Supply damper\", \"damperPosition\")], \n",
    "                    ylabel_1axis=\"Massflow [kg/s]\", #Optional\n",
    "                    ylabel_2axis=\"Damper position\", #Optional\n",
    "                    show=True, \n",
    "                    align_zero=True,\n",
    "                    nticks=11)"
   ]
  },
  {
   "cell_type": "code",
   "execution_count": null,
   "metadata": {},
   "outputs": [],
   "source": [
    "plot.plot_component(simulator, \n",
    "                    components_1axis=[(\"CO2 controller\", \"inputSignal\")], \n",
    "                    components_2axis=[(\"CO2 controller\", \"actualValue\"), \n",
    "                                      (\"CO2 controller\", \"setpointValue\")],\n",
    "                    ylabel_1axis=\"Position\", #Optional\n",
    "                    ylabel_2axis=r\"CO$_2$ concentration [ppm]\", #Optional\n",
    "                    show=True,\n",
    "                    nticks=11)"
   ]
  },
  {
   "cell_type": "code",
   "execution_count": null,
   "metadata": {},
   "outputs": [],
   "source": [
    "plot.plot_component(simulator, \n",
    "                    components_1axis=[(\"Space\", \"indoorCo2Concentration\")], \n",
    "                    components_2axis=[(\"Space\", \"numberOfPeople\")],\n",
    "                    components_3axis=[(\"Space\", \"supplyAirFlowRate\")], \n",
    "                    ylabel_1axis=r\"CO$_2$ concentration [ppm]\", #Optional\n",
    "                    ylabel_2axis=\"Number of people\", #Optional\n",
    "                    ylabel_3axis=r\"Airflow [kg/s]\", #Optional\n",
    "                    show=True,\n",
    "                    nticks=11)"
   ]
  },
  {
   "cell_type": "markdown",
   "metadata": {},
   "source": [
    "## 6. Interpreting the Results\n",
    "\n",
    "The plots show:\n",
    "\n",
    "1. Supply Damper Position: This graph illustrates how the damper position and airflow changes over time in response to CO2 levels.\n",
    "\n",
    "2. CO2 Controller: This plot shows the actual CO2 concentration compared to the setpoint, and the controller output (green line).\n",
    "\n",
    "These visualizations help us understand how the CO2 controller is managing the indoor air quality based on occupancy and setpoints.\n",
    "\n",
    "## 7. Next Steps\n",
    "\n",
    "To further explore this model, you could:\n",
    "- Adjust the PID controller parameters to see how they affect the system response\n",
    "- Modify the occupancy schedule to simulate different usage patterns\n",
    "- Change the CO2 setpoint to observe its impact on ventilation behavior\n",
    "\n",
    "This example demonstrates the power of Twin4Build for modeling and simulating building control systems."
   ]
  }
 ],
 "metadata": {
  "kernelspec": {
   "display_name": "t4b",
   "language": "python",
   "name": "python3"
  },
  "language_info": {
   "codemirror_mode": {
    "name": "ipython",
    "version": 3
   },
   "file_extension": ".py",
   "mimetype": "text/x-python",
   "name": "python",
   "nbconvert_exporter": "python",
   "pygments_lexer": "ipython3",
   "version": "3.10.14"
  }
 },
 "nbformat": 4,
 "nbformat_minor": 4
}
