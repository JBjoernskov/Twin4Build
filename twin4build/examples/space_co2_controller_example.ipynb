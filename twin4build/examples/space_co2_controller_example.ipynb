{
 "cells": [
  {
   "cell_type": "markdown",
   "metadata": {},
   "source": [
    "# Twin4Build: CO2 Controller Example\n",
    "\n",
    "This notebook demonstrates how to use the Twin4Build package to create and simulate a CO2 controller model for a building space. We'll go through the process step-by-step, explaining each part along the way."
   ]
  },
  {
   "cell_type": "markdown",
   "metadata": {},
   "source": [
    "## 1. Import Required Libraries\n",
    "\n",
    "First, we import the necessary libraries and modules."
   ]
  },
  {
   "cell_type": "code",
   "execution_count": 1,
   "metadata": {},
   "outputs": [
    {
     "name": "stderr",
     "output_type": "stream",
     "text": [
      "ERROR: Invalid requirement: '#': Expected package name at the start of dependency specifier\n",
      "    #\n",
      "    ^\n"
     ]
    },
    {
     "name": "stdout",
     "output_type": "stream",
     "text": [
      "Note: you may need to restart the kernel to use updated packages.\n"
     ]
    }
   ],
   "source": [
    "%pip install git+https://github.com/JBjoernskov/Twin4Build.git # Uncomment in google colab\n",
    "import datetime\n",
    "import sys\n",
    "sys.path.append(r\"C:\\Users\\jabj\\Documents\\python\\Twin4Build\")\n",
    "from dateutil import tz\n",
    "import twin4build as tb\n"
   ]
  },
  {
   "cell_type": "markdown",
   "metadata": {},
   "source": [
    "## 2. Define Model Components and Connections\n",
    "\n",
    "Now we define the components of our CO2 controller model and their connections.<br>\n",
    "For convenience, we can pack all these definitions into the \"fcn\" function, which will be used to create the model."
   ]
  },
  {
   "cell_type": "code",
   "execution_count": 2,
   "metadata": {},
   "outputs": [],
   "source": [
    "def fcn(self):\n",
    "    ##############################################################\n",
    "    ################## First, define components ##################\n",
    "    ##############################################################\n",
    "    occupancy_schedule = tb.ScheduleSystem(\n",
    "        weekDayRulesetDict={\n",
    "            \"ruleset_default_value\": 0,\n",
    "            \"ruleset_start_minute\": [0, 0, 0, 0, 0, 0, 0],\n",
    "            \"ruleset_end_minute\": [0, 0, 0, 0, 0, 0, 0],\n",
    "            \"ruleset_start_hour\": [6, 7, 8, 12, 14, 16, 18],\n",
    "            \"ruleset_end_hour\": [7, 8, 12, 14, 16, 18, 22],\n",
    "            \"ruleset_value\": [3, 5, 20, 25, 27, 7, 3]},\n",
    "        add_noise=True,\n",
    "        saveSimulationResult=True,\n",
    "        id=\"Occupancy schedule\")\n",
    "    \n",
    "    co2_setpoint_schedule = tb.ScheduleSystem(\n",
    "        weekDayRulesetDict={\n",
    "            \"ruleset_default_value\": 900,\n",
    "            \"ruleset_start_minute\": [],\n",
    "            \"ruleset_end_minute\": [],\n",
    "            \"ruleset_start_hour\": [],\n",
    "            \"ruleset_end_hour\": [],\n",
    "            \"ruleset_value\": []},\n",
    "        saveSimulationResult=True,\n",
    "        id=\"CO2 setpoint schedule\")\n",
    "\n",
    "    co2_controller = tb.PIControllerFMUSystem(\n",
    "        kp=0.001,\n",
    "        Ti=3,\n",
    "        isReverse=False,\n",
    "        saveSimulationResult=True,\n",
    "        id=\"CO2 controller\")\n",
    "\n",
    "    supply_damper = tb.DamperSystem(\n",
    "        nominalAirFlowRate=1.6,\n",
    "        a=5,\n",
    "        saveSimulationResult=True,\n",
    "        id=\"Supply damper\")\n",
    "\n",
    "    return_damper = tb.DamperSystem(\n",
    "        nominalAirFlowRate=1.6,\n",
    "        a=5,\n",
    "        saveSimulationResult=True,\n",
    "        id=\"Return damper\")\n",
    "\n",
    "    space = tb.BuildingSpaceCo2System(\n",
    "        airVolume=466.54,\n",
    "        outdoorCo2Concentration=500,\n",
    "        infiltration=0.005,\n",
    "        generationCo2Concentration=0.0042*1000*1.225,\n",
    "        saveSimulationResult=True,\n",
    "        id=\"Space\")\n",
    "\n",
    "    #################################################################\n",
    "    ################## Add connections to the model #################\n",
    "    #################################################################\n",
    "    self.add_connection(co2_controller, supply_damper,\n",
    "                         \"inputSignal\", \"damperPosition\")\n",
    "    self.add_connection(co2_controller, return_damper,\n",
    "                         \"inputSignal\", \"damperPosition\")\n",
    "    self.add_connection(supply_damper, space,\n",
    "                         \"airFlowRate\", \"supplyAirFlowRate\")\n",
    "    self.add_connection(return_damper, space,\n",
    "                         \"airFlowRate\", \"returnAirFlowRate\")\n",
    "    self.add_connection(occupancy_schedule, space,\n",
    "                         \"scheduleValue\", \"numberOfPeople\")\n",
    "    self.add_connection(space, co2_controller,\n",
    "                         \"indoorCo2Concentration\", \"actualValue\")\n",
    "    self.add_connection(co2_setpoint_schedule, co2_controller,\n",
    "                         \"scheduleValue\", \"setpointValue\")"
   ]
  },
  {
   "cell_type": "markdown",
   "metadata": {},
   "source": [
    "## 3. Create and Load the Model\n",
    "\n",
    "Now we create a model instance and load it with the components and connections we defined.<br>\n",
    "You can compare the shown graph and model structure with the one we defined in \"fcn\" function as part of the previous step."
   ]
  },
  {
   "cell_type": "code",
   "execution_count": 3,
   "metadata": {},
   "outputs": [
    {
     "name": "stderr",
     "output_type": "stream",
     "text": [
      "C:\\Users\\jabj\\Documents\\python\\Twin4Build\\twin4build\\utils\\mkdir_in_root.py:5: MainPathNotFound: Could not determine main module path, using temp dir: C:\\Users\\jabj\\AppData\\Local\\Temp\\1\n",
      "  current_dir = get_main_dir()\n"
     ]
    },
    {
     "name": "stdout",
     "output_type": "stream",
     "text": [
      "Model related files are stored in the following directory:\n",
      " C:\\Users\\jabj\\AppData\\Local\\Temp\\1\\generated_files\\models\\co2_control\n",
      "\n",
      "Loading model...[OK]\n",
      "   |___Drawing simulation model...\n",
      "Loading model...[OK]\n",
      "   |___Applying user defined function..."
     ]
    },
    {
     "ename": "AttributeError",
     "evalue": "module 'twin4build' has no attribute 'BuildingSpaceCo2System'",
     "output_type": "error",
     "traceback": [
      "\u001b[1;31m---------------------------------------------------------------------------\u001b[0m",
      "\u001b[1;31mAttributeError\u001b[0m                            Traceback (most recent call last)",
      "Cell \u001b[1;32mIn[3], line 2\u001b[0m\n\u001b[0;32m      1\u001b[0m model \u001b[38;5;241m=\u001b[39m tb\u001b[38;5;241m.\u001b[39mModel(\u001b[38;5;28mid\u001b[39m\u001b[38;5;241m=\u001b[39m\u001b[38;5;124m\"\u001b[39m\u001b[38;5;124mco2_control\u001b[39m\u001b[38;5;124m\"\u001b[39m)\n\u001b[1;32m----> 2\u001b[0m \u001b[43mmodel\u001b[49m\u001b[38;5;241;43m.\u001b[39;49m\u001b[43mload\u001b[49m\u001b[43m(\u001b[49m\u001b[43mfcn\u001b[49m\u001b[38;5;241;43m=\u001b[39;49m\u001b[43mfcn\u001b[49m\u001b[43m)\u001b[49m\n\u001b[0;32m      3\u001b[0m \u001b[38;5;66;03m# system_graph = os.path.join(model.graph_path, \"system_graph.png\")\u001b[39;00m\n\u001b[0;32m      4\u001b[0m \u001b[38;5;66;03m# image = plt.imread(system_graph)\u001b[39;00m\n\u001b[0;32m      5\u001b[0m \u001b[38;5;66;03m# plt.figure(figsize=(12,12))\u001b[39;00m\n\u001b[0;32m      6\u001b[0m \u001b[38;5;66;03m# plt.imshow(image)\u001b[39;00m\n\u001b[0;32m      7\u001b[0m \u001b[38;5;66;03m# plt.axis('off')\u001b[39;00m\n\u001b[0;32m      8\u001b[0m \u001b[38;5;66;03m# plt.show()\u001b[39;00m\n",
      "File \u001b[1;32m~\\Documents\\python\\Twin4Build\\twin4build\\model\\model.py:412\u001b[0m, in \u001b[0;36mModel.load\u001b[1;34m(self, semantic_model_filename, input_config, fcn, draw_semantic_model, create_signature_graphs, draw_simulation_model, verbose, validate_model, force_config_update)\u001b[0m\n\u001b[0;32m    410\u001b[0m \u001b[38;5;28;01mwith\u001b[39;00m warnings\u001b[38;5;241m.\u001b[39mcatch_warnings():\n\u001b[0;32m    411\u001b[0m     warnings\u001b[38;5;241m.\u001b[39msimplefilter(\u001b[38;5;124m\"\u001b[39m\u001b[38;5;124mignore\u001b[39m\u001b[38;5;124m\"\u001b[39m)\n\u001b[1;32m--> 412\u001b[0m     \u001b[38;5;28;43mself\u001b[39;49m\u001b[38;5;241;43m.\u001b[39;49m\u001b[43m_load\u001b[49m\u001b[43m(\u001b[49m\u001b[43msemantic_model_filename\u001b[49m\u001b[38;5;241;43m=\u001b[39;49m\u001b[43msemantic_model_filename\u001b[49m\u001b[43m,\u001b[49m\u001b[43m \u001b[49m\n\u001b[0;32m    413\u001b[0m \u001b[43m                \u001b[49m\u001b[43minput_config\u001b[49m\u001b[38;5;241;43m=\u001b[39;49m\u001b[43minput_config\u001b[49m\u001b[43m,\u001b[49m\u001b[43m \u001b[49m\n\u001b[0;32m    414\u001b[0m \u001b[43m                \u001b[49m\u001b[43mfcn\u001b[49m\u001b[38;5;241;43m=\u001b[39;49m\u001b[43mfcn\u001b[49m\u001b[43m,\u001b[49m\n\u001b[0;32m    415\u001b[0m \u001b[43m                \u001b[49m\u001b[43mdraw_semantic_model\u001b[49m\u001b[38;5;241;43m=\u001b[39;49m\u001b[43mdraw_semantic_model\u001b[49m\u001b[43m,\u001b[49m\n\u001b[0;32m    416\u001b[0m \u001b[43m                \u001b[49m\u001b[43mcreate_signature_graphs\u001b[49m\u001b[38;5;241;43m=\u001b[39;49m\u001b[43mcreate_signature_graphs\u001b[49m\u001b[43m,\u001b[49m\n\u001b[0;32m    417\u001b[0m \u001b[43m                \u001b[49m\u001b[43mdraw_simulation_model\u001b[49m\u001b[38;5;241;43m=\u001b[39;49m\u001b[43mdraw_simulation_model\u001b[49m\u001b[43m,\u001b[49m\n\u001b[0;32m    418\u001b[0m \u001b[43m                \u001b[49m\u001b[43mverbose\u001b[49m\u001b[38;5;241;43m=\u001b[39;49m\u001b[43mverbose\u001b[49m\u001b[43m,\u001b[49m\n\u001b[0;32m    419\u001b[0m \u001b[43m                \u001b[49m\u001b[43mvalidate_model\u001b[49m\u001b[38;5;241;43m=\u001b[39;49m\u001b[43mvalidate_model\u001b[49m\u001b[43m,\u001b[49m\u001b[43m \u001b[49m\n\u001b[0;32m    420\u001b[0m \u001b[43m                \u001b[49m\u001b[43mforce_config_update\u001b[49m\u001b[38;5;241;43m=\u001b[39;49m\u001b[43mforce_config_update\u001b[49m\u001b[43m)\u001b[49m\n",
      "File \u001b[1;32m~\\Documents\\python\\Twin4Build\\twin4build\\model\\model.py:496\u001b[0m, in \u001b[0;36mModel._load\u001b[1;34m(self, semantic_model_filename, input_config, fcn, draw_semantic_model, create_signature_graphs, draw_simulation_model, verbose, validate_model, force_config_update)\u001b[0m\n\u001b[0;32m    492\u001b[0m     \u001b[38;5;28mself\u001b[39m\u001b[38;5;241m.\u001b[39m_p(\u001b[38;5;124mf\u001b[39m\u001b[38;5;124m\"\u001b[39m\u001b[38;5;124mDrawing simulation model\u001b[39m\u001b[38;5;124m\"\u001b[39m)\n\u001b[0;32m    493\u001b[0m     \u001b[38;5;28mself\u001b[39m\u001b[38;5;241m.\u001b[39m_simulation_model\u001b[38;5;241m.\u001b[39mvisualize()\n\u001b[1;32m--> 496\u001b[0m \u001b[38;5;28;43mself\u001b[39;49m\u001b[38;5;241;43m.\u001b[39;49m\u001b[43m_simulation_model\u001b[49m\u001b[38;5;241;43m.\u001b[39;49m\u001b[43mload\u001b[49m\u001b[43m(\u001b[49m\u001b[43mfcn\u001b[49m\u001b[38;5;241;43m=\u001b[39;49m\u001b[43mfcn\u001b[49m\u001b[43m,\u001b[49m\n\u001b[0;32m    497\u001b[0m \u001b[43m                           \u001b[49m\u001b[43mverbose\u001b[49m\u001b[38;5;241;43m=\u001b[39;49m\u001b[43mverbose\u001b[49m\u001b[43m,\u001b[49m\u001b[43m \u001b[49m\n\u001b[0;32m    498\u001b[0m \u001b[43m                           \u001b[49m\u001b[43mvalidate_model\u001b[49m\u001b[38;5;241;43m=\u001b[39;49m\u001b[43mvalidate_model\u001b[49m\u001b[43m,\u001b[49m\u001b[43m \u001b[49m\n\u001b[0;32m    499\u001b[0m \u001b[43m                           \u001b[49m\u001b[43mforce_config_update\u001b[49m\u001b[38;5;241;43m=\u001b[39;49m\u001b[43mforce_config_update\u001b[49m\u001b[43m)\u001b[49m\n\u001b[0;32m    501\u001b[0m \u001b[38;5;28mself\u001b[39m\u001b[38;5;241m.\u001b[39m_p()\n\u001b[0;32m    502\u001b[0m \u001b[38;5;28;01mif\u001b[39;00m verbose:\n",
      "File \u001b[1;32m~\\Documents\\python\\Twin4Build\\twin4build\\model\\simulation_model.py:820\u001b[0m, in \u001b[0;36mSimulationModel.load\u001b[1;34m(self, fcn, verbose, validate_model, force_config_update)\u001b[0m\n\u001b[0;32m    818\u001b[0m \u001b[38;5;28;01mwith\u001b[39;00m warnings\u001b[38;5;241m.\u001b[39mcatch_warnings():\n\u001b[0;32m    819\u001b[0m     warnings\u001b[38;5;241m.\u001b[39msimplefilter(\u001b[38;5;124m\"\u001b[39m\u001b[38;5;124mignore\u001b[39m\u001b[38;5;124m\"\u001b[39m)\n\u001b[1;32m--> 820\u001b[0m     \u001b[38;5;28;43mself\u001b[39;49m\u001b[38;5;241;43m.\u001b[39;49m\u001b[43m_load\u001b[49m\u001b[43m(\u001b[49m\u001b[43mfcn\u001b[49m\u001b[38;5;241;43m=\u001b[39;49m\u001b[43mfcn\u001b[49m\u001b[43m,\u001b[49m\n\u001b[0;32m    821\u001b[0m \u001b[43m               \u001b[49m\u001b[43mvalidate_model\u001b[49m\u001b[38;5;241;43m=\u001b[39;49m\u001b[43mvalidate_model\u001b[49m\u001b[43m,\u001b[49m\n\u001b[0;32m    822\u001b[0m \u001b[43m               \u001b[49m\u001b[43mforce_config_update\u001b[49m\u001b[38;5;241;43m=\u001b[39;49m\u001b[43mforce_config_update\u001b[49m\u001b[43m)\u001b[49m\n",
      "File \u001b[1;32m~\\Documents\\python\\Twin4Build\\twin4build\\model\\simulation_model.py:851\u001b[0m, in \u001b[0;36mSimulationModel._load\u001b[1;34m(self, fcn, validate_model, force_config_update)\u001b[0m\n\u001b[0;32m    849\u001b[0m     \u001b[38;5;28;01massert\u001b[39;00m \u001b[38;5;28mcallable\u001b[39m(fcn), \u001b[38;5;124m\"\u001b[39m\u001b[38;5;124mThe function to be applied during model loading is not callable.\u001b[39m\u001b[38;5;124m\"\u001b[39m\n\u001b[0;32m    850\u001b[0m     \u001b[38;5;28mself\u001b[39m\u001b[38;5;241m.\u001b[39m_p(\u001b[38;5;124mf\u001b[39m\u001b[38;5;124m\"\u001b[39m\u001b[38;5;124mApplying user defined function\u001b[39m\u001b[38;5;124m\"\u001b[39m)\n\u001b[1;32m--> 851\u001b[0m     \u001b[43mfcn\u001b[49m\u001b[43m(\u001b[49m\u001b[38;5;28;43mself\u001b[39;49m\u001b[43m)\u001b[49m\n\u001b[0;32m    853\u001b[0m \u001b[38;5;28mself\u001b[39m\u001b[38;5;241m.\u001b[39m_p(\u001b[38;5;124m\"\u001b[39m\u001b[38;5;124mRemoving cycles\u001b[39m\u001b[38;5;124m\"\u001b[39m)\n\u001b[0;32m    854\u001b[0m \u001b[38;5;28mself\u001b[39m\u001b[38;5;241m.\u001b[39m_get_components_no_cycles()\n",
      "Cell \u001b[1;32mIn[2], line 47\u001b[0m, in \u001b[0;36mfcn\u001b[1;34m(self)\u001b[0m\n\u001b[0;32m     35\u001b[0m supply_damper \u001b[38;5;241m=\u001b[39m tb\u001b[38;5;241m.\u001b[39mDamperSystem(\n\u001b[0;32m     36\u001b[0m     nominalAirFlowRate\u001b[38;5;241m=\u001b[39m\u001b[38;5;241m1.6\u001b[39m,\n\u001b[0;32m     37\u001b[0m     a\u001b[38;5;241m=\u001b[39m\u001b[38;5;241m5\u001b[39m,\n\u001b[0;32m     38\u001b[0m     saveSimulationResult\u001b[38;5;241m=\u001b[39m\u001b[38;5;28;01mTrue\u001b[39;00m,\n\u001b[0;32m     39\u001b[0m     \u001b[38;5;28mid\u001b[39m\u001b[38;5;241m=\u001b[39m\u001b[38;5;124m\"\u001b[39m\u001b[38;5;124mSupply damper\u001b[39m\u001b[38;5;124m\"\u001b[39m)\n\u001b[0;32m     41\u001b[0m return_damper \u001b[38;5;241m=\u001b[39m tb\u001b[38;5;241m.\u001b[39mDamperSystem(\n\u001b[0;32m     42\u001b[0m     nominalAirFlowRate\u001b[38;5;241m=\u001b[39m\u001b[38;5;241m1.6\u001b[39m,\n\u001b[0;32m     43\u001b[0m     a\u001b[38;5;241m=\u001b[39m\u001b[38;5;241m5\u001b[39m,\n\u001b[0;32m     44\u001b[0m     saveSimulationResult\u001b[38;5;241m=\u001b[39m\u001b[38;5;28;01mTrue\u001b[39;00m,\n\u001b[0;32m     45\u001b[0m     \u001b[38;5;28mid\u001b[39m\u001b[38;5;241m=\u001b[39m\u001b[38;5;124m\"\u001b[39m\u001b[38;5;124mReturn damper\u001b[39m\u001b[38;5;124m\"\u001b[39m)\n\u001b[1;32m---> 47\u001b[0m space \u001b[38;5;241m=\u001b[39m \u001b[43mtb\u001b[49m\u001b[38;5;241;43m.\u001b[39;49m\u001b[43mBuildingSpaceCo2System\u001b[49m(\n\u001b[0;32m     48\u001b[0m     airVolume\u001b[38;5;241m=\u001b[39m\u001b[38;5;241m466.54\u001b[39m,\n\u001b[0;32m     49\u001b[0m     outdoorCo2Concentration\u001b[38;5;241m=\u001b[39m\u001b[38;5;241m500\u001b[39m,\n\u001b[0;32m     50\u001b[0m     infiltration\u001b[38;5;241m=\u001b[39m\u001b[38;5;241m0.005\u001b[39m,\n\u001b[0;32m     51\u001b[0m     generationCo2Concentration\u001b[38;5;241m=\u001b[39m\u001b[38;5;241m0.0042\u001b[39m\u001b[38;5;241m*\u001b[39m\u001b[38;5;241m1000\u001b[39m\u001b[38;5;241m*\u001b[39m\u001b[38;5;241m1.225\u001b[39m,\n\u001b[0;32m     52\u001b[0m     saveSimulationResult\u001b[38;5;241m=\u001b[39m\u001b[38;5;28;01mTrue\u001b[39;00m,\n\u001b[0;32m     53\u001b[0m     \u001b[38;5;28mid\u001b[39m\u001b[38;5;241m=\u001b[39m\u001b[38;5;124m\"\u001b[39m\u001b[38;5;124mSpace\u001b[39m\u001b[38;5;124m\"\u001b[39m)\n\u001b[0;32m     55\u001b[0m \u001b[38;5;66;03m#################################################################\u001b[39;00m\n\u001b[0;32m     56\u001b[0m \u001b[38;5;66;03m################## Add connections to the model #################\u001b[39;00m\n\u001b[0;32m     57\u001b[0m \u001b[38;5;66;03m#################################################################\u001b[39;00m\n\u001b[0;32m     58\u001b[0m \u001b[38;5;28mself\u001b[39m\u001b[38;5;241m.\u001b[39madd_connection(co2_controller, supply_damper,\n\u001b[0;32m     59\u001b[0m                      \u001b[38;5;124m\"\u001b[39m\u001b[38;5;124minputSignal\u001b[39m\u001b[38;5;124m\"\u001b[39m, \u001b[38;5;124m\"\u001b[39m\u001b[38;5;124mdamperPosition\u001b[39m\u001b[38;5;124m\"\u001b[39m)\n",
      "\u001b[1;31mAttributeError\u001b[0m: module 'twin4build' has no attribute 'BuildingSpaceCo2System'"
     ]
    }
   ],
   "source": [
    "model = tb.Model(id=\"co2_control\")\n",
    "model.load(fcn=fcn)\n",
    "# system_graph = os.path.join(model.graph_path, \"system_graph.png\")\n",
    "# image = plt.imread(system_graph)\n",
    "# plt.figure(figsize=(12,12))\n",
    "# plt.imshow(image)\n",
    "# plt.axis('off')\n",
    "# plt.show()"
   ]
  },
  {
   "cell_type": "markdown",
   "metadata": {},
   "source": [
    "## 4. Set Up Simulation Parameters and Run Simulation\n",
    "\n",
    "We set up the simulation parameters and run the simulation for our CO2 controller model."
   ]
  },
  {
   "cell_type": "code",
   "execution_count": null,
   "metadata": {},
   "outputs": [],
   "source": [
    "simulator = tb.Simulator()\n",
    "stepSize = 600 #Seconds\n",
    "startTime = datetime.datetime(year=2024, month=1, day=10, hour=0, minute=0, second=0, tzinfo=tz.gettz(\"Europe/Copenhagen\"))\n",
    "endTime = datetime.datetime(year=2024, month=1, day=12, hour=0, minute=0, second=0, tzinfo=tz.gettz(\"Europe/Copenhagen\"))\n",
    "\n",
    "# Simulate the model\n",
    "simulator.simulate(model,\n",
    "                    stepSize=stepSize,\n",
    "                    startTime = startTime,\n",
    "                    endTime = endTime)"
   ]
  },
  {
   "cell_type": "markdown",
   "metadata": {},
   "source": [
    "## 5. Visualize Results\n",
    "\n",
    "We use the built-in plotting functions to visualize the simulation results."
   ]
  },
  {
   "cell_type": "code",
   "execution_count": null,
   "metadata": {},
   "outputs": [],
   "source": [
    "plot.plot_component(simulator, \n",
    "                    components_1axis=[(\"Supply damper\", \"airFlowRate\")], \n",
    "                    components_2axis=[(\"Supply damper\", \"damperPosition\")], \n",
    "                    ylabel_1axis=\"Massflow [kg/s]\", #Optional\n",
    "                    ylabel_2axis=\"Damper position\", #Optional\n",
    "                    show=True, \n",
    "                    align_zero=True,\n",
    "                    nticks=11)"
   ]
  },
  {
   "cell_type": "code",
   "execution_count": null,
   "metadata": {},
   "outputs": [],
   "source": [
    "plot.plot_component(simulator, \n",
    "                    components_1axis=[(\"CO2 controller\", \"inputSignal\")], \n",
    "                    components_2axis=[(\"CO2 controller\", \"actualValue\"), \n",
    "                                      (\"CO2 controller\", \"setpointValue\")],\n",
    "                    ylabel_1axis=\"Position\", #Optional\n",
    "                    ylabel_2axis=r\"CO$_2$ concentration [ppm]\", #Optional\n",
    "                    show=True,\n",
    "                    nticks=11)"
   ]
  },
  {
   "cell_type": "code",
   "execution_count": null,
   "metadata": {},
   "outputs": [],
   "source": [
    "plot.plot_component(simulator, \n",
    "                    components_1axis=[(\"Space\", \"indoorCo2Concentration\")], \n",
    "                    components_2axis=[(\"Space\", \"numberOfPeople\")],\n",
    "                    components_3axis=[(\"Space\", \"supplyAirFlowRate\")], \n",
    "                    ylabel_1axis=r\"CO$_2$ concentration [ppm]\", #Optional\n",
    "                    ylabel_2axis=\"Number of people\", #Optional\n",
    "                    ylabel_3axis=r\"Airflow [kg/s]\", #Optional\n",
    "                    show=True,\n",
    "                    nticks=11)"
   ]
  },
  {
   "cell_type": "markdown",
   "metadata": {},
   "source": [
    "## 6. Interpreting the Results\n",
    "\n",
    "The plots show:\n",
    "\n",
    "1. Supply Damper Position: This graph illustrates how the damper position and airflow changes over time in response to CO2 levels.\n",
    "\n",
    "2. CO2 Controller: This plot shows the actual CO2 concentration compared to the setpoint, and the controller output (green line).\n",
    "\n",
    "These visualizations help us understand how the CO2 controller is managing the indoor air quality based on occupancy and setpoints.\n",
    "\n",
    "## 7. Next Steps\n",
    "\n",
    "To further explore this model, you could:\n",
    "- Adjust the PID controller parameters to see how they affect the system response\n",
    "- Modify the occupancy schedule to simulate different usage patterns\n",
    "- Change the CO2 setpoint to observe its impact on ventilation behavior\n",
    "\n",
    "This example demonstrates the power of Twin4Build for modeling and simulating building control systems."
   ]
  }
 ],
 "metadata": {
  "kernelspec": {
   "display_name": "t4b",
   "language": "python",
   "name": "python3"
  },
  "language_info": {
   "codemirror_mode": {
    "name": "ipython",
    "version": 3
   },
   "file_extension": ".py",
   "mimetype": "text/x-python",
   "name": "python",
   "nbconvert_exporter": "python",
   "pygments_lexer": "ipython3",
   "version": "3.10.14"
  }
 },
 "nbformat": 4,
 "nbformat_minor": 4
}
